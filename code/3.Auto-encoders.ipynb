{
 "cells": [
  {
   "cell_type": "markdown",
   "metadata": {},
   "source": [
    "## Auto-encoders "
   ]
  },
  {
   "cell_type": "markdown",
   "metadata": {},
   "source": [
    "Author : Ines Krissaane "
   ]
  },
  {
   "cell_type": "code",
   "execution_count": 1,
   "metadata": {},
   "outputs": [],
   "source": [
    "import pandas as pd, numpy as np, matplotlib.pyplot as plt, seaborn as sns\n",
    "%matplotlib inline\n",
    "from sklearn.model_selection import train_test_split\n",
    "from tensorflow import keras\n",
    "from tensorflow.keras.layers import Input, Dense,  Conv2D, MaxPooling2D, UpSampling2D, Concatenate, Reshape, Lambda, Flatten, Activation, Dropout\n",
    "from tensorflow.keras import Model\n",
    "from tensorflow.keras import regularizers\n",
    "from tensorflow.keras import backend\n",
    "from tensorflow.keras.models import Sequential\n",
    "from sklearn.preprocessing import  StandardScaler, MinMaxScaler\n",
    "from tensorflow.keras.callbacks import ModelCheckpoint\n",
    "from tensorflow.keras.callbacks import TensorBoard\n",
    "from tensorflow.keras.models import load_model\n",
    "from sklearn.metrics import confusion_matrix, precision_recall_curve\n",
    "from sklearn.metrics import roc_auc_score,roc_curve,auc"
   ]
  },
  {
   "cell_type": "code",
   "execution_count": 2,
   "metadata": {},
   "outputs": [],
   "source": [
    "from sklearn.ensemble import GradientBoostingClassifier,RandomForestClassifier\n",
    "from sklearn.neighbors import KNeighborsClassifier\n",
    "from sklearn.tree import DecisionTreeClassifier\n",
    "from sklearn.metrics import roc_auc_score,roc_curve,auc\n",
    "from sklearn.model_selection import cross_val_score\n",
    "from sklearn.gaussian_process import GaussianProcessClassifier\n",
    "from sklearn.ensemble import AdaBoostClassifier\n",
    "from sklearn.model_selection import train_test_split\n",
    "from sklearn.ensemble import RandomForestRegressor\n",
    "from sklearn.linear_model import LinearRegression\n",
    "import glob\n",
    "from sklearn import linear_model\n",
    "import datetime\n",
    "from sklearn.preprocessing import  StandardScaler, MinMaxScaler\n",
    "from sklearn.model_selection import learning_curve, GridSearchCV\n",
    "from random import sample \n",
    "from sklearn.linear_model import LogisticRegression"
   ]
  },
  {
   "cell_type": "markdown",
   "metadata": {},
   "source": [
    "## Import data and pre-processing (cf 1.Pre-processing.ipynb and 2.RandomForest.ipynb)"
   ]
  },
  {
   "cell_type": "code",
   "execution_count": 3,
   "metadata": {},
   "outputs": [
    {
     "data": {
      "text/plain": [
       "(1552210, 43)"
      ]
     },
     "execution_count": 3,
     "metadata": {},
     "output_type": "execute_result"
    }
   ],
   "source": [
    "X_tr = pd.read_csv('SEPSIS_ALL.csv')\n",
    "X_tr.shape"
   ]
  },
  {
   "cell_type": "code",
   "execution_count": 4,
   "metadata": {},
   "outputs": [
    {
     "data": {
      "text/plain": [
       "Index(['Unnamed: 0', 'HR', 'O2Sat', 'Temp', 'SBP', 'MAP', 'DBP', 'Resp',\n",
       "       'EtCO2', 'BaseExcess', 'HCO3', 'FiO2', 'pH', 'PaCO2', 'SaO2', 'AST',\n",
       "       'BUN', 'Alkalinephos', 'Calcium', 'Chloride', 'Creatinine',\n",
       "       'Bilirubin_direct', 'Glucose', 'Lactate', 'Magnesium', 'Phosphate',\n",
       "       'Potassium', 'Bilirubin_total', 'TroponinI', 'Hct', 'Hgb', 'PTT', 'WBC',\n",
       "       'Fibrinogen', 'Platelets', 'Age', 'Gender', 'Unit1', 'Unit2',\n",
       "       'HospAdmTime', 'ICULOS', 'SepsisLabel', 'ID'],\n",
       "      dtype='object')"
      ]
     },
     "execution_count": 4,
     "metadata": {},
     "output_type": "execute_result"
    }
   ],
   "source": [
    "X_tr.columns"
   ]
  },
  {
   "cell_type": "code",
   "execution_count": 5,
   "metadata": {},
   "outputs": [
    {
     "name": "stderr",
     "output_type": "stream",
     "text": [
      "/anaconda3/lib/python3.7/site-packages/pandas/core/generic.py:6130: SettingWithCopyWarning: \n",
      "A value is trying to be set on a copy of a slice from a DataFrame\n",
      "\n",
      "See the caveats in the documentation: http://pandas.pydata.org/pandas-docs/stable/indexing.html#indexing-view-versus-copy\n",
      "  self._update_inplace(new_data)\n",
      "/anaconda3/lib/python3.7/site-packages/pandas/core/frame.py:4034: SettingWithCopyWarning: \n",
      "A value is trying to be set on a copy of a slice from a DataFrame\n",
      "\n",
      "See the caveats in the documentation: http://pandas.pydata.org/pandas-docs/stable/indexing.html#indexing-view-versus-copy\n",
      "  downcast=downcast, **kwargs)\n"
     ]
    }
   ],
   "source": [
    "X_tr.drop(['EtCO2', 'BaseExcess','HCO3', 'FiO2', 'pH', 'PaCO2', 'SaO2', 'AST', 'BUN', 'Alkalinephos',\n",
    "    'Calcium', 'Chloride','Magnesium','Phosphate',\n",
    "    'Potassium', 'Bilirubin_total', 'TroponinI','Hct', 'Hgb',  'Unnamed: 0','Fibrinogen', 'Platelets',\n",
    " 'Unit1', \"Unit2\"], axis = 1, inplace = True)\n",
    "\n",
    "\n",
    "data = X_tr[(X_tr['Bilirubin_direct']).notnull()]\n",
    "data2 = X_tr[(X_tr['Lactate']).notnull()]\n",
    "data3 = X_tr[(X_tr['PTT']).notnull()] \n",
    "data4 = X_tr[(X_tr['Creatinine']).notnull()] \n",
    "data5 = X_tr[(X_tr['WBC']).notnull()] \n",
    "data6 = X_tr[(X_tr['Glucose']).notnull()]\n",
    "#healthy patients\n",
    "BR_healthy = sum(data[data.SepsisLabel ==0].Bilirubin_direct)/len(data[data.SepsisLabel ==0].Bilirubin_direct)\n",
    "lact_healthy = sum(data2[data2.SepsisLabel ==0].Lactate)/len(data2[data2.SepsisLabel ==0].Lactate)\n",
    "ptt_healthy = sum(data3[data3.SepsisLabel ==0].PTT)/len(data3[data3.SepsisLabel ==0].PTT)\n",
    "creat_healthy = sum(data4[data4.SepsisLabel ==0].Creatinine)/len(data4[data4.SepsisLabel ==0].Creatinine)\n",
    "WBC_healthy = sum(data5[data5.SepsisLabel ==0].WBC)/len(data5[data5.SepsisLabel ==0].WBC)\n",
    "glucose_healthy = sum(data6[data6.SepsisLabel ==0].Glucose)/len(data6[data6.SepsisLabel ==0].Glucose)\n",
    "\n",
    "# sepsis patients\n",
    "BR_sepsis = sum(data[data.SepsisLabel ==1].Bilirubin_direct)/len(data[data.SepsisLabel ==1].Bilirubin_direct)\n",
    "lact_sepsis = sum(data2[data2.SepsisLabel ==1].Lactate)/len(data2[data2.SepsisLabel ==1].Lactate)\n",
    "ptt_sepsis= sum(data3[data3.SepsisLabel ==1].PTT)/len(data3[data3.SepsisLabel ==1].PTT)\n",
    "creat_sepsis = sum(data4[data4.SepsisLabel ==1].Creatinine)/len(data4[data4.SepsisLabel ==1].Creatinine)\n",
    "WBC_sepsis = sum(data5[data5.SepsisLabel ==1].WBC)/len(data5[data5.SepsisLabel ==1].WBC)\n",
    "glucose_sepsis = sum(data6[data6.SepsisLabel ==1].Glucose)/len(data6[data6.SepsisLabel ==1].Glucose)\n",
    "healthy = X_tr[X_tr.SepsisLabel == 0]\n",
    "sepsis = X_tr[X_tr.SepsisLabel == 1]\n",
    "\n",
    "healthy['Bilirubin_direct'].fillna(value=BR_healthy, inplace=True)\n",
    "healthy['Lactate'].fillna(value=lact_healthy, inplace=True)\n",
    "healthy['PTT'].fillna(value=ptt_healthy, inplace=True)\n",
    "healthy['Creatinine'].fillna(value=creat_healthy, inplace=True)\n",
    "healthy['WBC'].fillna(value=WBC_healthy, inplace=True)\n",
    "healthy['Glucose'].fillna(value=glucose_healthy , inplace=True)\n",
    "\n",
    "sepsis['Bilirubin_direct'].fillna(value=BR_sepsis, inplace=True)\n",
    "sepsis['Lactate'].fillna(value=lact_sepsis, inplace=True)\n",
    "sepsis['PTT'].fillna(value=ptt_sepsis, inplace=True)\n",
    "sepsis['Creatinine'].fillna(value=creat_sepsis, inplace=True)\n",
    "sepsis['WBC'].fillna(value=WBC_sepsis, inplace=True)\n",
    "sepsis['Glucose'].fillna(value=glucose_sepsis, inplace=True)\n",
    "\n",
    "\n",
    "sepsis.fillna(method='bfill', inplace=True)\n",
    "sepsis.fillna(method='ffill', inplace=True)\n",
    "healthy.fillna(method='bfill', inplace=True)\n",
    "healthy.fillna(method='ffill', inplace=True)\n",
    "\n",
    "X_tr = pd.concat([sepsis, healthy]).sort_index()"
   ]
  },
  {
   "cell_type": "code",
   "execution_count": 6,
   "metadata": {},
   "outputs": [],
   "source": [
    "# Remove variables with more than 82% of na.\n",
    "X_tr.drop([\"HospAdmTime\",'O2Sat'], axis = 1, inplace = True)"
   ]
  },
  {
   "cell_type": "code",
   "execution_count": 7,
   "metadata": {},
   "outputs": [],
   "source": [
    "X_tr.fillna(method='bfill', inplace=True)\n",
    "X_tr.fillna(method='ffill', inplace=True)"
   ]
  },
  {
   "cell_type": "code",
   "execution_count": 8,
   "metadata": {},
   "outputs": [
    {
     "data": {
      "text/html": [
       "<div>\n",
       "<style scoped>\n",
       "    .dataframe tbody tr th:only-of-type {\n",
       "        vertical-align: middle;\n",
       "    }\n",
       "\n",
       "    .dataframe tbody tr th {\n",
       "        vertical-align: top;\n",
       "    }\n",
       "\n",
       "    .dataframe thead th {\n",
       "        text-align: right;\n",
       "    }\n",
       "</style>\n",
       "<table border=\"1\" class=\"dataframe\">\n",
       "  <thead>\n",
       "    <tr style=\"text-align: right;\">\n",
       "      <th></th>\n",
       "      <th>HR</th>\n",
       "      <th>Temp</th>\n",
       "      <th>SBP</th>\n",
       "      <th>MAP</th>\n",
       "      <th>DBP</th>\n",
       "      <th>Resp</th>\n",
       "      <th>Creatinine</th>\n",
       "      <th>Bilirubin_direct</th>\n",
       "      <th>Glucose</th>\n",
       "      <th>Lactate</th>\n",
       "      <th>PTT</th>\n",
       "      <th>WBC</th>\n",
       "      <th>Age</th>\n",
       "      <th>Gender</th>\n",
       "      <th>ICULOS</th>\n",
       "      <th>SepsisLabel</th>\n",
       "      <th>ID</th>\n",
       "    </tr>\n",
       "  </thead>\n",
       "  <tbody>\n",
       "    <tr>\n",
       "      <th>0</th>\n",
       "      <td>97.0</td>\n",
       "      <td>36.11</td>\n",
       "      <td>98.0</td>\n",
       "      <td>75.33</td>\n",
       "      <td>43.0</td>\n",
       "      <td>19.0</td>\n",
       "      <td>1.502821</td>\n",
       "      <td>1.790182</td>\n",
       "      <td>136.871742</td>\n",
       "      <td>2.642708</td>\n",
       "      <td>41.155191</td>\n",
       "      <td>11.401411</td>\n",
       "      <td>83.14</td>\n",
       "      <td>0</td>\n",
       "      <td>1</td>\n",
       "      <td>0</td>\n",
       "      <td>p000001.psv</td>\n",
       "    </tr>\n",
       "    <tr>\n",
       "      <th>1</th>\n",
       "      <td>97.0</td>\n",
       "      <td>36.11</td>\n",
       "      <td>98.0</td>\n",
       "      <td>75.33</td>\n",
       "      <td>43.0</td>\n",
       "      <td>19.0</td>\n",
       "      <td>1.502821</td>\n",
       "      <td>1.790182</td>\n",
       "      <td>136.871742</td>\n",
       "      <td>2.642708</td>\n",
       "      <td>41.155191</td>\n",
       "      <td>11.401411</td>\n",
       "      <td>83.14</td>\n",
       "      <td>0</td>\n",
       "      <td>2</td>\n",
       "      <td>0</td>\n",
       "      <td>p000001.psv</td>\n",
       "    </tr>\n",
       "    <tr>\n",
       "      <th>2</th>\n",
       "      <td>89.0</td>\n",
       "      <td>36.11</td>\n",
       "      <td>122.0</td>\n",
       "      <td>86.00</td>\n",
       "      <td>43.0</td>\n",
       "      <td>22.0</td>\n",
       "      <td>1.502821</td>\n",
       "      <td>1.790182</td>\n",
       "      <td>136.871742</td>\n",
       "      <td>2.642708</td>\n",
       "      <td>41.155191</td>\n",
       "      <td>11.401411</td>\n",
       "      <td>83.14</td>\n",
       "      <td>0</td>\n",
       "      <td>3</td>\n",
       "      <td>0</td>\n",
       "      <td>p000001.psv</td>\n",
       "    </tr>\n",
       "    <tr>\n",
       "      <th>3</th>\n",
       "      <td>90.0</td>\n",
       "      <td>36.11</td>\n",
       "      <td>122.0</td>\n",
       "      <td>91.33</td>\n",
       "      <td>43.0</td>\n",
       "      <td>30.0</td>\n",
       "      <td>1.502821</td>\n",
       "      <td>1.790182</td>\n",
       "      <td>136.871742</td>\n",
       "      <td>2.642708</td>\n",
       "      <td>41.155191</td>\n",
       "      <td>11.401411</td>\n",
       "      <td>83.14</td>\n",
       "      <td>0</td>\n",
       "      <td>4</td>\n",
       "      <td>0</td>\n",
       "      <td>p000001.psv</td>\n",
       "    </tr>\n",
       "    <tr>\n",
       "      <th>4</th>\n",
       "      <td>103.0</td>\n",
       "      <td>36.11</td>\n",
       "      <td>122.0</td>\n",
       "      <td>91.33</td>\n",
       "      <td>43.0</td>\n",
       "      <td>24.5</td>\n",
       "      <td>1.502821</td>\n",
       "      <td>1.790182</td>\n",
       "      <td>136.871742</td>\n",
       "      <td>2.642708</td>\n",
       "      <td>41.155191</td>\n",
       "      <td>11.401411</td>\n",
       "      <td>83.14</td>\n",
       "      <td>0</td>\n",
       "      <td>5</td>\n",
       "      <td>0</td>\n",
       "      <td>p000001.psv</td>\n",
       "    </tr>\n",
       "  </tbody>\n",
       "</table>\n",
       "</div>"
      ],
      "text/plain": [
       "      HR   Temp    SBP    MAP   DBP  Resp  Creatinine  Bilirubin_direct  \\\n",
       "0   97.0  36.11   98.0  75.33  43.0  19.0    1.502821          1.790182   \n",
       "1   97.0  36.11   98.0  75.33  43.0  19.0    1.502821          1.790182   \n",
       "2   89.0  36.11  122.0  86.00  43.0  22.0    1.502821          1.790182   \n",
       "3   90.0  36.11  122.0  91.33  43.0  30.0    1.502821          1.790182   \n",
       "4  103.0  36.11  122.0  91.33  43.0  24.5    1.502821          1.790182   \n",
       "\n",
       "      Glucose   Lactate        PTT        WBC    Age  Gender  ICULOS  \\\n",
       "0  136.871742  2.642708  41.155191  11.401411  83.14       0       1   \n",
       "1  136.871742  2.642708  41.155191  11.401411  83.14       0       2   \n",
       "2  136.871742  2.642708  41.155191  11.401411  83.14       0       3   \n",
       "3  136.871742  2.642708  41.155191  11.401411  83.14       0       4   \n",
       "4  136.871742  2.642708  41.155191  11.401411  83.14       0       5   \n",
       "\n",
       "   SepsisLabel           ID  \n",
       "0            0  p000001.psv  \n",
       "1            0  p000001.psv  \n",
       "2            0  p000001.psv  \n",
       "3            0  p000001.psv  \n",
       "4            0  p000001.psv  "
      ]
     },
     "execution_count": 8,
     "metadata": {},
     "output_type": "execute_result"
    }
   ],
   "source": [
    "X_tr.head()"
   ]
  },
  {
   "cell_type": "code",
   "execution_count": 9,
   "metadata": {},
   "outputs": [
    {
     "data": {
      "text/plain": [
       "(1552210, 17)"
      ]
     },
     "execution_count": 9,
     "metadata": {},
     "output_type": "execute_result"
    }
   ],
   "source": [
    "X_tr.shape"
   ]
  },
  {
   "cell_type": "markdown",
   "metadata": {},
   "source": [
    "## Anomaly Detection using Autoencoders"
   ]
  },
  {
   "cell_type": "markdown",
   "metadata": {},
   "source": [
    "- https://arxiv.org/pdf/1811.05269.pdf\n",
    "- https://core.ac.uk/download/pdf/81634504.pdf"
   ]
  },
  {
   "cell_type": "code",
   "execution_count": 104,
   "metadata": {},
   "outputs": [],
   "source": [
    "normal = X_tr[X_tr['SepsisLabel'] == 0]\n",
    "anormal = X_tr[X_tr['SepsisLabel'] == 1]\n",
    "\n",
    "list_anormal = list(anormal.ID.unique() )\n",
    "list_normal = list(normal.ID.unique() )\n",
    "df = X_tr\n",
    "for i in (list_anormal):\n",
    "    df = df[df.ID != i]\n",
    "\n",
    "normal = df\n",
    "list_normal = list(normal.ID.unique())"
   ]
  },
  {
   "cell_type": "code",
   "execution_count": 114,
   "metadata": {},
   "outputs": [
    {
     "data": {
      "text/plain": [
       "37404"
      ]
     },
     "execution_count": 114,
     "metadata": {},
     "output_type": "execute_result"
    }
   ],
   "source": [
    "len(list_normal)"
   ]
  },
  {
   "cell_type": "code",
   "execution_count": 107,
   "metadata": {},
   "outputs": [],
   "source": [
    "from random import sample \n",
    "list_validation_normal = sample(list_normal,5000)\n",
    "list_validation_anormal = sample(list_anormal,500)"
   ]
  },
  {
   "cell_type": "code",
   "execution_count": 109,
   "metadata": {},
   "outputs": [],
   "source": [
    "df = normal\n",
    "for i in (list_validation_normal):\n",
    "    df = df[df.ID != i]\n",
    "normal =df "
   ]
  },
  {
   "cell_type": "code",
   "execution_count": 110,
   "metadata": {},
   "outputs": [
    {
     "data": {
      "text/plain": [
       "32404"
      ]
     },
     "execution_count": 110,
     "metadata": {},
     "output_type": "execute_result"
    }
   ],
   "source": [
    "len(normal.ID.unique())"
   ]
  },
  {
   "cell_type": "code",
   "execution_count": 112,
   "metadata": {},
   "outputs": [],
   "source": [
    "df = anormal\n",
    "for i in (list_validation_anormal):\n",
    "    df = df[df.ID != i]\n",
    "anormal =df "
   ]
  },
  {
   "cell_type": "code",
   "execution_count": 113,
   "metadata": {},
   "outputs": [
    {
     "data": {
      "text/plain": [
       "2432"
      ]
     },
     "execution_count": 113,
     "metadata": {},
     "output_type": "execute_result"
    }
   ],
   "source": [
    "len(anormal.ID.unique())"
   ]
  },
  {
   "cell_type": "code",
   "execution_count": 132,
   "metadata": {},
   "outputs": [],
   "source": [
    "normal.drop(['ID'], axis = 1, inplace = True)"
   ]
  },
  {
   "cell_type": "code",
   "execution_count": 133,
   "metadata": {},
   "outputs": [
    {
     "name": "stderr",
     "output_type": "stream",
     "text": [
      "/anaconda3/lib/python3.7/site-packages/pandas/core/frame.py:3940: SettingWithCopyWarning: \n",
      "A value is trying to be set on a copy of a slice from a DataFrame\n",
      "\n",
      "See the caveats in the documentation: http://pandas.pydata.org/pandas-docs/stable/indexing.html#indexing-view-versus-copy\n",
      "  errors=errors)\n",
      "/anaconda3/lib/python3.7/site-packages/ipykernel_launcher.py:7: FutureWarning: Sorting because non-concatenation axis is not aligned. A future version\n",
      "of pandas will change to not sort by default.\n",
      "\n",
      "To accept the future behavior, pass 'sort=False'.\n",
      "\n",
      "To retain the current behavior and silence the warning, pass 'sort=True'.\n",
      "\n",
      "  import sys\n"
     ]
    }
   ],
   "source": [
    "# train only on healthy patients \n",
    "RANDOM_SEED = 101\n",
    "X_train, X_test = train_test_split(normal, test_size=0.3, random_state = RANDOM_SEED)\n",
    "y_train = X_train.SepsisLabel\n",
    "X_train.drop(['SepsisLabel'], axis=1,  inplace = True)\n",
    "y_test = pd.concat([X_test.SepsisLabel,anormal.SepsisLabel])\n",
    "X_test = pd.concat([X_test, anormal], axis=0)\n",
    "X_test.drop(['SepsisLabel', 'ID'], axis=1,  inplace = True)"
   ]
  },
  {
   "cell_type": "code",
   "execution_count": 134,
   "metadata": {},
   "outputs": [
    {
     "name": "stdout",
     "output_type": "stream",
     "text": [
      "Training data size   : (836639, 15)\n",
      "Validation data size : (381675, 15)\n"
     ]
    }
   ],
   "source": [
    "X_train = X_train.values\n",
    "X_test  = X_test.values\n",
    "print('Training data size   :', X_train.shape)\n",
    "print('Validation data size :', X_test.shape)\n",
    "      "
   ]
  },
  {
   "cell_type": "code",
   "execution_count": 135,
   "metadata": {},
   "outputs": [],
   "source": [
    "scaler = MinMaxScaler()\n",
    "X_train_scaled = scaler.fit_transform(X_train)\n",
    "X_test_scaled  = scaler.transform(X_test)"
   ]
  },
  {
   "cell_type": "code",
   "execution_count": 137,
   "metadata": {},
   "outputs": [
    {
     "name": "stdout",
     "output_type": "stream",
     "text": [
      "Model: \"model_2\"\n",
      "_________________________________________________________________\n",
      "Layer (type)                 Output Shape              Param #   \n",
      "=================================================================\n",
      "input_3 (InputLayer)         [(None, 15)]              0         \n",
      "_________________________________________________________________\n",
      "dense_8 (Dense)              (None, 56)                896       \n",
      "_________________________________________________________________\n",
      "dense_9 (Dense)              (None, 392)               22344     \n",
      "_________________________________________________________________\n",
      "dense_10 (Dense)             (None, 784)               308112    \n",
      "_________________________________________________________________\n",
      "dense_11 (Dense)             (None, 56)                43960     \n",
      "_________________________________________________________________\n",
      "dense_12 (Dense)             (None, 15)                855       \n",
      "=================================================================\n",
      "Total params: 376,167\n",
      "Trainable params: 376,167\n",
      "Non-trainable params: 0\n",
      "_________________________________________________________________\n"
     ]
    }
   ],
   "source": [
    "# Our NN\n",
    "input_dim = X_train.shape[1]\n",
    "encoding_dim = 56\n",
    "\n",
    "input_layer = Input(shape=(input_dim, ))\n",
    "encoder = Dense(encoding_dim, activation=\"softmax\")(input_layer)\n",
    "encoder = Dense(int(encoding_dim * 7), activation=\"softmax\")(encoder)\n",
    "\n",
    "encoder = Dense(int(encoding_dim * 14), activation=\"tanh\")(encoder)\n",
    "#decoder = Dense(int(encoding_dim*7), activation='tanh')(encoder)\n",
    "\n",
    "\n",
    "#encoder = Dense(int(2), activation=\"tanh\")(encoder)\n",
    "#decoder = Dense(int(encoding_dim/ 2), activation='tanh')(encoder)\n",
    "decoder = Dense(int(encoding_dim), activation='softmax')(encoder)\n",
    "decoder = Dense(input_dim, activation='softmax')(decoder)\n",
    "autoencoder = Model(inputs=input_layer, outputs=decoder)\n",
    "autoencoder.summary()"
   ]
  },
  {
   "cell_type": "code",
   "execution_count": 138,
   "metadata": {},
   "outputs": [
    {
     "name": "stdout",
     "output_type": "stream",
     "text": [
      "Train on 836639 samples, validate on 381675 samples\n",
      "Epoch 1/100\n",
      "836639/836639 [==============================] - 16s 19us/sample - loss: 4151.3080 - acc: 0.4261 - val_loss: 4192.2003 - val_acc: 0.0000e+00\n",
      "Epoch 2/100\n",
      "836639/836639 [==============================] - 15s 18us/sample - loss: 4146.2296 - acc: 0.6891 - val_loss: 4193.2334 - val_acc: 0.0000e+00\n",
      "Epoch 3/100\n",
      "836639/836639 [==============================] - 16s 19us/sample - loss: 4145.1412 - acc: 0.6891 - val_loss: 4193.4168 - val_acc: 0.0000e+00\n",
      "Epoch 4/100\n",
      "836639/836639 [==============================] - 16s 19us/sample - loss: 4144.8496 - acc: 0.6891 - val_loss: 4193.4713 - val_acc: 0.0000e+00\n",
      "Epoch 5/100\n",
      "836639/836639 [==============================] - 16s 19us/sample - loss: 4144.7519 - acc: 0.6891 - val_loss: 4193.4939 - val_acc: 0.0000e+00\n",
      "Epoch 6/100\n",
      "836639/836639 [==============================] - 17s 20us/sample - loss: 4144.7088 - acc: 0.6891 - val_loss: 4193.5050 - val_acc: 0.0000e+00\n",
      "Epoch 7/100\n",
      "836639/836639 [==============================] - 17s 20us/sample - loss: 4144.6865 - acc: 0.6891 - val_loss: 4193.5113 - val_acc: 0.0000e+00\n",
      "Epoch 8/100\n",
      "836639/836639 [==============================] - 16s 20us/sample - loss: 4144.6740 - acc: 0.6891 - val_loss: 4193.5152 - val_acc: 0.0000e+00\n",
      "Epoch 9/100\n",
      "836639/836639 [==============================] - 16s 20us/sample - loss: 4144.6664 - acc: 0.6891 - val_loss: 4193.5175 - val_acc: 0.0000e+00\n",
      "Epoch 10/100\n",
      "836639/836639 [==============================] - 17s 20us/sample - loss: 4144.6619 - acc: 0.6891 - val_loss: 4193.5188 - val_acc: 0.0000e+00\n",
      "Epoch 11/100\n",
      "836639/836639 [==============================] - 16s 20us/sample - loss: 4144.6589 - acc: 0.6891 - val_loss: 4193.5198 - val_acc: 0.0000e+00\n",
      "Epoch 12/100\n",
      "836639/836639 [==============================] - 17s 20us/sample - loss: 4144.6569 - acc: 0.6891 - val_loss: 4193.5202 - val_acc: 0.0000e+00\n",
      "Epoch 13/100\n",
      "836639/836639 [==============================] - 17s 20us/sample - loss: 4144.6557 - acc: 0.6891 - val_loss: 4193.5206 - val_acc: 0.0000e+00\n",
      "Epoch 14/100\n",
      "836639/836639 [==============================] - 17s 20us/sample - loss: 4144.6549 - acc: 0.6891 - val_loss: 4193.5210 - val_acc: 0.0000e+00\n",
      "Epoch 15/100\n",
      "836639/836639 [==============================] - 17s 20us/sample - loss: 4144.6544 - acc: 0.6891 - val_loss: 4193.5214 - val_acc: 0.0000e+00\n",
      "Epoch 16/100\n",
      "836639/836639 [==============================] - 17s 20us/sample - loss: 4144.6539 - acc: 0.6891 - val_loss: 4193.5214 - val_acc: 0.0000e+00\n",
      "Epoch 17/100\n",
      "836639/836639 [==============================] - 17s 20us/sample - loss: 4144.6538 - acc: 0.6891 - val_loss: 4193.5216 - val_acc: 0.0000e+00\n",
      "Epoch 18/100\n",
      "836639/836639 [==============================] - 18s 22us/sample - loss: 4144.6536 - acc: 0.6891 - val_loss: 4193.5216 - val_acc: 0.0000e+00\n",
      "Epoch 19/100\n",
      "836639/836639 [==============================] - 17s 20us/sample - loss: 4144.6535 - acc: 0.6891 - val_loss: 4193.5216 - val_acc: 0.0000e+00\n",
      "Epoch 20/100\n",
      "836639/836639 [==============================] - 16s 19us/sample - loss: 4144.6534 - acc: 0.6891 - val_loss: 4193.5216 - val_acc: 0.0000e+00\n",
      "Epoch 21/100\n",
      "836639/836639 [==============================] - 16s 19us/sample - loss: 4144.6533 - acc: 0.6891 - val_loss: 4193.5216 - val_acc: 0.0000e+00\n",
      "Epoch 22/100\n",
      "836639/836639 [==============================] - 16s 20us/sample - loss: 4144.6533 - acc: 0.6891 - val_loss: 4193.5216 - val_acc: 0.0000e+00\n",
      "Epoch 23/100\n",
      "836639/836639 [==============================] - 17s 21us/sample - loss: 4144.6534 - acc: 0.6891 - val_loss: 4193.5216 - val_acc: 0.0000e+00\n",
      "Epoch 24/100\n",
      "836639/836639 [==============================] - 18s 22us/sample - loss: 4144.6532 - acc: 0.6891 - val_loss: 4193.5216 - val_acc: 0.0000e+00\n",
      "Epoch 25/100\n",
      "836639/836639 [==============================] - 18s 21us/sample - loss: 4144.6532 - acc: 0.6891 - val_loss: 4193.5216 - val_acc: 0.0000e+00\n",
      "Epoch 26/100\n",
      "836639/836639 [==============================] - 17s 21us/sample - loss: 4144.6532 - acc: 0.6891 - val_loss: 4193.5216 - val_acc: 0.0000e+00\n",
      "Epoch 27/100\n",
      "836639/836639 [==============================] - 18s 21us/sample - loss: 4144.6532 - acc: 0.6891 - val_loss: 4193.5216 - val_acc: 0.0000e+00\n",
      "Epoch 28/100\n",
      "836639/836639 [==============================] - 17s 20us/sample - loss: 4144.6532 - acc: 0.6891 - val_loss: 4193.5216 - val_acc: 0.0000e+00\n",
      "Epoch 29/100\n",
      "836639/836639 [==============================] - 16s 19us/sample - loss: 4144.6532 - acc: 0.6891 - val_loss: 4193.5216 - val_acc: 0.0000e+00\n",
      "Epoch 30/100\n",
      "836639/836639 [==============================] - 17s 21us/sample - loss: 4144.6532 - acc: 0.6891 - val_loss: 4193.5216 - val_acc: 0.0000e+00\n",
      "Epoch 31/100\n",
      "836639/836639 [==============================] - 16s 19us/sample - loss: 4144.6532 - acc: 0.6891 - val_loss: 4193.5216 - val_acc: 0.0000e+00\n",
      "Epoch 32/100\n",
      "836639/836639 [==============================] - 16s 19us/sample - loss: 4144.6532 - acc: 0.6891 - val_loss: 4193.5216 - val_acc: 0.0000e+00\n",
      "Epoch 33/100\n",
      "836639/836639 [==============================] - 16s 19us/sample - loss: 4144.6532 - acc: 0.6891 - val_loss: 4193.5216 - val_acc: 0.0000e+00\n",
      "Epoch 34/100\n",
      "836639/836639 [==============================] - 16s 19us/sample - loss: 4144.6532 - acc: 0.6891 - val_loss: 4193.5216 - val_acc: 0.0000e+00\n",
      "Epoch 35/100\n",
      "836639/836639 [==============================] - 16s 19us/sample - loss: 4144.6532 - acc: 0.6891 - val_loss: 4193.5216 - val_acc: 0.0000e+00\n",
      "Epoch 36/100\n",
      "836639/836639 [==============================] - 16s 19us/sample - loss: 4144.6532 - acc: 0.6891 - val_loss: 4193.5216 - val_acc: 0.0000e+00\n",
      "Epoch 37/100\n",
      "836639/836639 [==============================] - 16s 19us/sample - loss: 4144.6532 - acc: 0.6891 - val_loss: 4193.5216 - val_acc: 0.0000e+00\n",
      "Epoch 38/100\n",
      "836639/836639 [==============================] - 16s 19us/sample - loss: 4144.6532 - acc: 0.6891 - val_loss: 4193.5216 - val_acc: 0.0000e+00\n",
      "Epoch 39/100\n",
      "836639/836639 [==============================] - 16s 19us/sample - loss: 4144.6532 - acc: 0.6891 - val_loss: 4193.5216 - val_acc: 0.0000e+00\n",
      "Epoch 40/100\n",
      "836639/836639 [==============================] - 16s 19us/sample - loss: 4144.6532 - acc: 0.6891 - val_loss: 4193.5216 - val_acc: 0.0000e+00\n",
      "Epoch 41/100\n",
      "836639/836639 [==============================] - 16s 19us/sample - loss: 4144.6532 - acc: 0.6891 - val_loss: 4193.5216 - val_acc: 0.0000e+00\n",
      "Epoch 42/100\n",
      "836639/836639 [==============================] - 16s 19us/sample - loss: 4144.6532 - acc: 0.6891 - val_loss: 4193.5216 - val_acc: 0.0000e+00\n",
      "Epoch 43/100\n",
      "836639/836639 [==============================] - 16s 19us/sample - loss: 4144.6532 - acc: 0.6891 - val_loss: 4193.5216 - val_acc: 0.0000e+00\n",
      "Epoch 44/100\n",
      "836639/836639 [==============================] - 16s 20us/sample - loss: 4144.6532 - acc: 0.6891 - val_loss: 4193.5216 - val_acc: 0.0000e+00\n",
      "Epoch 45/100\n",
      "836639/836639 [==============================] - 18s 22us/sample - loss: 4144.6532 - acc: 0.6891 - val_loss: 4193.5216 - val_acc: 0.0000e+00\n",
      "Epoch 46/100\n",
      "836639/836639 [==============================] - 17s 20us/sample - loss: 4144.6532 - acc: 0.6891 - val_loss: 4193.5216 - val_acc: 0.0000e+00\n",
      "Epoch 47/100\n",
      "836639/836639 [==============================] - 17s 20us/sample - loss: 4144.6532 - acc: 0.6891 - val_loss: 4193.5216 - val_acc: 0.0000e+00\n",
      "Epoch 48/100\n",
      "836639/836639 [==============================] - 17s 20us/sample - loss: 4144.6532 - acc: 0.6891 - val_loss: 4193.5216 - val_acc: 0.0000e+00\n",
      "Epoch 49/100\n",
      "836639/836639 [==============================] - 17s 20us/sample - loss: 4144.6532 - acc: 0.6891 - val_loss: 4193.5216 - val_acc: 0.0000e+00\n",
      "Epoch 50/100\n",
      "836639/836639 [==============================] - 17s 20us/sample - loss: 4144.6532 - acc: 0.6891 - val_loss: 4193.5216 - val_acc: 0.0000e+00\n",
      "Epoch 51/100\n",
      "836639/836639 [==============================] - 16s 19us/sample - loss: 4144.6532 - acc: 0.6891 - val_loss: 4193.5216 - val_acc: 0.0000e+00\n",
      "Epoch 52/100\n",
      "836639/836639 [==============================] - 16s 20us/sample - loss: 4144.6532 - acc: 0.6891 - val_loss: 4193.5216 - val_acc: 0.0000e+00\n",
      "Epoch 53/100\n",
      "836639/836639 [==============================] - 17s 20us/sample - loss: 4144.6532 - acc: 0.6891 - val_loss: 4193.5216 - val_acc: 0.0000e+00\n"
     ]
    },
    {
     "name": "stdout",
     "output_type": "stream",
     "text": [
      "Epoch 54/100\n",
      "836639/836639 [==============================] - 17s 20us/sample - loss: 4144.6532 - acc: 0.6891 - val_loss: 4193.5216 - val_acc: 0.0000e+00\n",
      "Epoch 55/100\n",
      "836639/836639 [==============================] - 18s 21us/sample - loss: 4144.6532 - acc: 0.6891 - val_loss: 4193.5216 - val_acc: 0.0000e+00\n",
      "Epoch 56/100\n",
      "836639/836639 [==============================] - 17s 20us/sample - loss: 4144.6532 - acc: 0.6891 - val_loss: 4193.5216 - val_acc: 0.0000e+00\n",
      "Epoch 57/100\n",
      "836639/836639 [==============================] - 17s 20us/sample - loss: 4144.6532 - acc: 0.6891 - val_loss: 4193.5216 - val_acc: 0.0000e+00\n",
      "Epoch 58/100\n",
      "836639/836639 [==============================] - 17s 20us/sample - loss: 4144.6532 - acc: 0.6891 - val_loss: 4193.5216 - val_acc: 0.0000e+00\n",
      "Epoch 59/100\n",
      "836639/836639 [==============================] - 17s 20us/sample - loss: 4144.6532 - acc: 0.6891 - val_loss: 4193.5216 - val_acc: 0.0000e+00\n",
      "Epoch 60/100\n",
      "836639/836639 [==============================] - 16s 20us/sample - loss: 4144.6532 - acc: 0.6891 - val_loss: 4193.5216 - val_acc: 0.0000e+00\n",
      "Epoch 61/100\n",
      "836639/836639 [==============================] - 17s 20us/sample - loss: 4144.6532 - acc: 0.6891 - val_loss: 4193.5216 - val_acc: 0.0000e+00\n",
      "Epoch 62/100\n",
      "836639/836639 [==============================] - 17s 20us/sample - loss: 4144.6532 - acc: 0.6891 - val_loss: 4193.5216 - val_acc: 0.0000e+00\n",
      "Epoch 63/100\n",
      "836639/836639 [==============================] - 16s 20us/sample - loss: 4144.6532 - acc: 0.6891 - val_loss: 4193.5216 - val_acc: 0.0000e+00\n",
      "Epoch 64/100\n",
      "836639/836639 [==============================] - 17s 20us/sample - loss: 4144.6532 - acc: 0.6891 - val_loss: 4193.5216 - val_acc: 0.0000e+00\n",
      "Epoch 65/100\n",
      "836639/836639 [==============================] - 18s 22us/sample - loss: 4144.6532 - acc: 0.6891 - val_loss: 4193.5216 - val_acc: 0.0000e+00\n",
      "Epoch 66/100\n",
      "836639/836639 [==============================] - 17s 20us/sample - loss: 4144.6532 - acc: 0.6891 - val_loss: 4193.5216 - val_acc: 0.0000e+00\n",
      "Epoch 67/100\n",
      "836639/836639 [==============================] - 17s 20us/sample - loss: 4144.6532 - acc: 0.6891 - val_loss: 4193.5216 - val_acc: 0.0000e+00\n",
      "Epoch 68/100\n",
      "836639/836639 [==============================] - 17s 20us/sample - loss: 4144.6532 - acc: 0.6891 - val_loss: 4193.5216 - val_acc: 0.0000e+00\n",
      "Epoch 69/100\n",
      "836639/836639 [==============================] - 17s 21us/sample - loss: 4144.6532 - acc: 0.6891 - val_loss: 4193.5216 - val_acc: 0.0000e+00\n",
      "Epoch 70/100\n",
      "836639/836639 [==============================] - 18s 21us/sample - loss: 4144.6532 - acc: 0.6891 - val_loss: 4193.5216 - val_acc: 0.0000e+00\n",
      "Epoch 71/100\n",
      "836639/836639 [==============================] - 18s 22us/sample - loss: 4144.6532 - acc: 0.6891 - val_loss: 4193.5216 - val_acc: 0.0000e+00\n",
      "Epoch 72/100\n",
      "836639/836639 [==============================] - 17s 20us/sample - loss: 4144.6532 - acc: 0.6891 - val_loss: 4193.5216 - val_acc: 0.0000e+00\n",
      "Epoch 73/100\n",
      "836639/836639 [==============================] - 18s 21us/sample - loss: 4144.6532 - acc: 0.6891 - val_loss: 4193.5216 - val_acc: 0.0000e+00\n",
      "Epoch 74/100\n",
      "836639/836639 [==============================] - 17s 21us/sample - loss: 4144.6532 - acc: 0.6891 - val_loss: 4193.5216 - val_acc: 0.0000e+00\n",
      "Epoch 75/100\n",
      "836639/836639 [==============================] - 17s 21us/sample - loss: 4144.6532 - acc: 0.6891 - val_loss: 4193.5216 - val_acc: 0.0000e+00\n",
      "Epoch 76/100\n",
      "836639/836639 [==============================] - 17s 20us/sample - loss: 4144.6532 - acc: 0.6891 - val_loss: 4193.5216 - val_acc: 0.0000e+00\n",
      "Epoch 77/100\n",
      "836639/836639 [==============================] - 17s 20us/sample - loss: 4144.6532 - acc: 0.6891 - val_loss: 4193.5216 - val_acc: 0.0000e+00\n",
      "Epoch 78/100\n",
      "836639/836639 [==============================] - 17s 20us/sample - loss: 4144.6532 - acc: 0.6891 - val_loss: 4193.5216 - val_acc: 0.0000e+00\n",
      "Epoch 79/100\n",
      "836639/836639 [==============================] - 17s 20us/sample - loss: 4144.6532 - acc: 0.6891 - val_loss: 4193.5216 - val_acc: 0.0000e+00\n",
      "Epoch 80/100\n",
      "836639/836639 [==============================] - 17s 20us/sample - loss: 4144.6532 - acc: 0.6891 - val_loss: 4193.5216 - val_acc: 0.0000e+00\n",
      "Epoch 81/100\n",
      "836639/836639 [==============================] - 18s 21us/sample - loss: 4144.6532 - acc: 0.6891 - val_loss: 4193.5216 - val_acc: 0.0000e+00\n",
      "Epoch 82/100\n",
      "836639/836639 [==============================] - 17s 21us/sample - loss: 4144.6532 - acc: 0.6891 - val_loss: 4193.5216 - val_acc: 0.0000e+00\n",
      "Epoch 83/100\n",
      "836639/836639 [==============================] - 17s 20us/sample - loss: 4144.6532 - acc: 0.6891 - val_loss: 4193.5216 - val_acc: 0.0000e+00\n",
      "Epoch 84/100\n",
      "836639/836639 [==============================] - 16s 19us/sample - loss: 4144.6532 - acc: 0.6891 - val_loss: 4193.5216 - val_acc: 0.0000e+00\n",
      "Epoch 85/100\n",
      "836639/836639 [==============================] - 18s 22us/sample - loss: 4144.6532 - acc: 0.6891 - val_loss: 4193.5216 - val_acc: 0.0000e+00\n",
      "Epoch 86/100\n",
      "836639/836639 [==============================] - 17s 20us/sample - loss: 4144.6532 - acc: 0.6891 - val_loss: 4193.5216 - val_acc: 0.0000e+00\n",
      "Epoch 87/100\n",
      "836639/836639 [==============================] - 16s 20us/sample - loss: 4144.6532 - acc: 0.6891 - val_loss: 4193.5216 - val_acc: 0.0000e+00\n",
      "Epoch 88/100\n",
      "836639/836639 [==============================] - 17s 20us/sample - loss: 4144.6532 - acc: 0.6891 - val_loss: 4193.5216 - val_acc: 0.0000e+00\n",
      "Epoch 89/100\n",
      "836639/836639 [==============================] - 17s 21us/sample - loss: 4144.6532 - acc: 0.6891 - val_loss: 4193.5216 - val_acc: 0.0000e+00\n",
      "Epoch 90/100\n",
      "836639/836639 [==============================] - 17s 20us/sample - loss: 4144.6532 - acc: 0.6891 - val_loss: 4193.5216 - val_acc: 0.0000e+00\n",
      "Epoch 91/100\n",
      "836639/836639 [==============================] - 16s 19us/sample - loss: 4144.6532 - acc: 0.6891 - val_loss: 4193.5216 - val_acc: 0.0000e+00\n",
      "Epoch 92/100\n",
      "836639/836639 [==============================] - 16s 19us/sample - loss: 4144.6532 - acc: 0.6891 - val_loss: 4193.5216 - val_acc: 0.0000e+00\n",
      "Epoch 93/100\n",
      "836639/836639 [==============================] - 16s 19us/sample - loss: 4144.6532 - acc: 0.6891 - val_loss: 4193.5216 - val_acc: 0.0000e+00\n",
      "Epoch 94/100\n",
      "836639/836639 [==============================] - 16s 19us/sample - loss: 4144.6532 - acc: 0.6891 - val_loss: 4193.5216 - val_acc: 0.0000e+00\n",
      "Epoch 95/100\n",
      "836639/836639 [==============================] - 16s 19us/sample - loss: 4144.6532 - acc: 0.6891 - val_loss: 4193.5216 - val_acc: 0.0000e+00\n",
      "Epoch 96/100\n",
      "836639/836639 [==============================] - 16s 20us/sample - loss: 4144.6532 - acc: 0.6891 - val_loss: 4193.5216 - val_acc: 0.0000e+00\n",
      "Epoch 97/100\n",
      "836639/836639 [==============================] - 16s 19us/sample - loss: 4144.6532 - acc: 0.6891 - val_loss: 4193.5216 - val_acc: 0.0000e+00\n",
      "Epoch 98/100\n",
      "836639/836639 [==============================] - 16s 19us/sample - loss: 4144.6532 - acc: 0.6891 - val_loss: 4193.5216 - val_acc: 0.0000e+00\n",
      "Epoch 99/100\n",
      "836639/836639 [==============================] - 17s 20us/sample - loss: 4144.6532 - acc: 0.6891 - val_loss: 4193.5216 - val_acc: 0.0000e+00\n",
      "Epoch 100/100\n",
      "836639/836639 [==============================] - 16s 20us/sample - loss: 4144.6532 - acc: 0.6891 - val_loss: 4193.5216 - val_acc: 0.0000e+00\n"
     ]
    }
   ],
   "source": [
    "# train it\n",
    "\n",
    "#class_weights=  {0: 1.,\n",
    "             #   1: 10.}\n",
    "\n",
    "nb_epoch = 100\n",
    "batch_size = 1000\n",
    "autoencoder.compile(metrics=['accuracy'],\n",
    "                    loss='mean_squared_error',\n",
    "                    optimizer='adam')\n",
    "\n",
    "cp = ModelCheckpoint(filepath=\"autoencoder_fraud.h5\",\n",
    "                               save_best_only=True,\n",
    "                               verbose=0)\n",
    "\n",
    "tb = TensorBoard(log_dir='./logs',\n",
    "                histogram_freq=0,\n",
    "                write_graph=True,\n",
    "                write_images=True)\n",
    "\n",
    "history = autoencoder.fit(X_train, X_train,\n",
    "                    epochs=nb_epoch, \n",
    "                    batch_size=batch_size,\n",
    "                    shuffle=True,\n",
    "                    validation_data=(X_test, X_test),\n",
    "                    verbose=1,\n",
    "                    callbacks=[cp, tb]).history"
   ]
  },
  {
   "cell_type": "code",
   "execution_count": 68,
   "metadata": {},
   "outputs": [],
   "source": [
    "from tensorflow.keras.models import model_from_json"
   ]
  },
  {
   "cell_type": "code",
   "execution_count": 196,
   "metadata": {},
   "outputs": [
    {
     "name": "stdout",
     "output_type": "stream",
     "text": [
      "Saved model to disk\n"
     ]
    }
   ],
   "source": [
    "model_json = autoencoder.to_json()\n",
    "with open(\"autoencoder_model.json\", \"w\") as json_file:\n",
    "    json_file.write(model_json)\n",
    "# serialize weights to HDF5\n",
    "autoencoder.save_weights(\"autoencoder_model.h5\")\n",
    "print(\"Saved model to disk\")"
   ]
  },
  {
   "cell_type": "code",
   "execution_count": 69,
   "metadata": {},
   "outputs": [
    {
     "name": "stderr",
     "output_type": "stream",
     "text": [
      "WARNING: Logging before flag parsing goes to stderr.\n",
      "W1001 14:02:59.518190 4551624128 deprecation.py:506] From /anaconda3/lib/python3.7/site-packages/tensorflow/python/ops/init_ops.py:97: calling GlorotUniform.__init__ (from tensorflow.python.ops.init_ops) with dtype is deprecated and will be removed in a future version.\n",
      "Instructions for updating:\n",
      "Call initializer instance with the dtype argument instead of passing it to the constructor\n",
      "W1001 14:02:59.519329 4551624128 deprecation.py:506] From /anaconda3/lib/python3.7/site-packages/tensorflow/python/ops/init_ops.py:1251: calling VarianceScaling.__init__ (from tensorflow.python.ops.init_ops) with dtype is deprecated and will be removed in a future version.\n",
      "Instructions for updating:\n",
      "Call initializer instance with the dtype argument instead of passing it to the constructor\n",
      "W1001 14:02:59.520378 4551624128 deprecation.py:506] From /anaconda3/lib/python3.7/site-packages/tensorflow/python/ops/init_ops.py:97: calling Zeros.__init__ (from tensorflow.python.ops.init_ops) with dtype is deprecated and will be removed in a future version.\n",
      "Instructions for updating:\n",
      "Call initializer instance with the dtype argument instead of passing it to the constructor\n"
     ]
    },
    {
     "name": "stdout",
     "output_type": "stream",
     "text": [
      "Loaded model from disk\n"
     ]
    }
   ],
   "source": [
    "# load json and create model\n",
    "json_file = open('autoencoder_model.json', 'r')\n",
    "loaded_model_json = json_file.read()\n",
    "json_file.close()\n",
    "loaded_model = model_from_json(loaded_model_json)\n",
    "# load weights into new model\n",
    "loaded_model.load_weights(\"autoencoder_model.h5\")\n",
    "print(\"Loaded model from disk\")"
   ]
  },
  {
   "cell_type": "markdown",
   "metadata": {},
   "source": [
    "### Model results"
   ]
  },
  {
   "cell_type": "code",
   "execution_count": 139,
   "metadata": {},
   "outputs": [
    {
     "data": {
      "text/html": [
       "<div>\n",
       "<style scoped>\n",
       "    .dataframe tbody tr th:only-of-type {\n",
       "        vertical-align: middle;\n",
       "    }\n",
       "\n",
       "    .dataframe tbody tr th {\n",
       "        vertical-align: top;\n",
       "    }\n",
       "\n",
       "    .dataframe thead th {\n",
       "        text-align: right;\n",
       "    }\n",
       "</style>\n",
       "<table border=\"1\" class=\"dataframe\">\n",
       "  <thead>\n",
       "    <tr style=\"text-align: right;\">\n",
       "      <th></th>\n",
       "      <th>Reconstruction_error</th>\n",
       "      <th>True_class</th>\n",
       "    </tr>\n",
       "  </thead>\n",
       "  <tbody>\n",
       "    <tr>\n",
       "      <th>count</th>\n",
       "      <td>381675.000000</td>\n",
       "      <td>381675.000000</td>\n",
       "    </tr>\n",
       "    <tr>\n",
       "      <th>mean</th>\n",
       "      <td>4193.521620</td>\n",
       "      <td>0.060562</td>\n",
       "    </tr>\n",
       "    <tr>\n",
       "      <th>std</th>\n",
       "      <td>1027.182158</td>\n",
       "      <td>0.238525</td>\n",
       "    </tr>\n",
       "    <tr>\n",
       "      <th>min</th>\n",
       "      <td>1595.054438</td>\n",
       "      <td>0.000000</td>\n",
       "    </tr>\n",
       "    <tr>\n",
       "      <th>25%</th>\n",
       "      <td>3608.441583</td>\n",
       "      <td>0.000000</td>\n",
       "    </tr>\n",
       "    <tr>\n",
       "      <th>50%</th>\n",
       "      <td>4019.353038</td>\n",
       "      <td>0.000000</td>\n",
       "    </tr>\n",
       "    <tr>\n",
       "      <th>75%</th>\n",
       "      <td>4557.026946</td>\n",
       "      <td>0.000000</td>\n",
       "    </tr>\n",
       "    <tr>\n",
       "      <th>max</th>\n",
       "      <td>60613.386036</td>\n",
       "      <td>1.000000</td>\n",
       "    </tr>\n",
       "  </tbody>\n",
       "</table>\n",
       "</div>"
      ],
      "text/plain": [
       "       Reconstruction_error     True_class\n",
       "count         381675.000000  381675.000000\n",
       "mean            4193.521620       0.060562\n",
       "std             1027.182158       0.238525\n",
       "min             1595.054438       0.000000\n",
       "25%             3608.441583       0.000000\n",
       "50%             4019.353038       0.000000\n",
       "75%             4557.026946       0.000000\n",
       "max            60613.386036       1.000000"
      ]
     },
     "execution_count": 139,
     "metadata": {},
     "output_type": "execute_result"
    }
   ],
   "source": [
    "test_x_predictions = autoencoder.predict(X_test)\n",
    "mse = np.mean(np.power(X_test- test_x_predictions, 2), axis=1)\n",
    "error_df = pd.DataFrame({'Reconstruction_error': mse,\n",
    "                        'True_class': y_test})\n",
    "error_df.describe()"
   ]
  },
  {
   "cell_type": "code",
   "execution_count": 140,
   "metadata": {},
   "outputs": [
    {
     "data": {
      "image/png": "[encoded data removed]",
      "text/plain": [
       "<Figure size 432x288 with 1 Axes>"
      ]
     },
     "metadata": {
      "needs_background": "light"
     },
     "output_type": "display_data"
    }
   ],
   "source": [
    "false_pos_rate, true_pos_rate, thresholds = roc_curve(error_df.True_class, error_df.Reconstruction_error)\n",
    "roc_auc = auc(false_pos_rate, true_pos_rate,)\n",
    "\n",
    "plt.plot(false_pos_rate, true_pos_rate, linewidth=5, label='AUC = %0.3f'% roc_auc)\n",
    "plt.plot([0,1],[0,1], linewidth=5)\n",
    "\n",
    "plt.xlim([-0.01, 1])\n",
    "plt.ylim([0, 1.01])\n",
    "plt.legend(loc='lower right')\n",
    "plt.title('Receiver operating characteristic curve (ROC)')\n",
    "plt.ylabel('True Positive Rate')\n",
    "plt.xlabel('False Positive Rate')\n",
    "plt.show()"
   ]
  },
  {
   "cell_type": "code",
   "execution_count": 141,
   "metadata": {},
   "outputs": [
    {
     "data": {
      "image/png": "[encoded data removed]",
      "text/plain": [
       "<Figure size 432x288 with 1 Axes>"
      ]
     },
     "metadata": {
      "needs_background": "light"
     },
     "output_type": "display_data"
    }
   ],
   "source": [
    "precision_rt, recall_rt, threshold_rt = precision_recall_curve(error_df.True_class, error_df.Reconstruction_error)\n",
    "plt.plot(recall_rt, precision_rt, linewidth=5, label='Precision-Recall curve')\n",
    "plt.title('Recall vs Precision')\n",
    "plt.xlabel('Recall')\n",
    "plt.ylabel('Precision')\n",
    "plt.show()"
   ]
  },
  {
   "cell_type": "code",
   "execution_count": 142,
   "metadata": {},
   "outputs": [
    {
     "data": {
      "image/png": "[encoded data removed]",
      "text/plain": [
       "<Figure size 432x288 with 1 Axes>"
      ]
     },
     "metadata": {
      "needs_background": "light"
     },
     "output_type": "display_data"
    }
   ],
   "source": [
    "plt.plot( precision_rt[1:], recall_rt[1:],label=\"Precision\",linewidth=5)\n",
    "\n",
    "plt.title('Precision and recall for different threshold values')\n",
    "plt.xlabel('Threshold')\n",
    "plt.ylabel('Precision/Recall')\n",
    "plt.legend()\n",
    "plt.show()"
   ]
  },
  {
   "cell_type": "code",
   "execution_count": 143,
   "metadata": {},
   "outputs": [
    {
     "data": {
      "text/html": [
       "<div>\n",
       "<style scoped>\n",
       "    .dataframe tbody tr th:only-of-type {\n",
       "        vertical-align: middle;\n",
       "    }\n",
       "\n",
       "    .dataframe tbody tr th {\n",
       "        vertical-align: top;\n",
       "    }\n",
       "\n",
       "    .dataframe thead th {\n",
       "        text-align: right;\n",
       "    }\n",
       "</style>\n",
       "<table border=\"1\" class=\"dataframe\">\n",
       "  <thead>\n",
       "    <tr style=\"text-align: right;\">\n",
       "      <th></th>\n",
       "      <th>Reconstruction_error</th>\n",
       "      <th>True_class</th>\n",
       "    </tr>\n",
       "  </thead>\n",
       "  <tbody>\n",
       "    <tr>\n",
       "      <th>1146058</th>\n",
       "      <td>2991.075823</td>\n",
       "      <td>0</td>\n",
       "    </tr>\n",
       "    <tr>\n",
       "      <th>1435373</th>\n",
       "      <td>4774.439156</td>\n",
       "      <td>0</td>\n",
       "    </tr>\n",
       "    <tr>\n",
       "      <th>105319</th>\n",
       "      <td>3537.577676</td>\n",
       "      <td>0</td>\n",
       "    </tr>\n",
       "    <tr>\n",
       "      <th>1134544</th>\n",
       "      <td>3400.511156</td>\n",
       "      <td>0</td>\n",
       "    </tr>\n",
       "    <tr>\n",
       "      <th>229415</th>\n",
       "      <td>3645.935563</td>\n",
       "      <td>0</td>\n",
       "    </tr>\n",
       "    <tr>\n",
       "      <th>959350</th>\n",
       "      <td>3490.241156</td>\n",
       "      <td>0</td>\n",
       "    </tr>\n",
       "    <tr>\n",
       "      <th>1116973</th>\n",
       "      <td>3085.755676</td>\n",
       "      <td>0</td>\n",
       "    </tr>\n",
       "    <tr>\n",
       "      <th>496561</th>\n",
       "      <td>3976.296069</td>\n",
       "      <td>0</td>\n",
       "    </tr>\n",
       "    <tr>\n",
       "      <th>444470</th>\n",
       "      <td>3525.331989</td>\n",
       "      <td>0</td>\n",
       "    </tr>\n",
       "    <tr>\n",
       "      <th>11369</th>\n",
       "      <td>5677.307102</td>\n",
       "      <td>0</td>\n",
       "    </tr>\n",
       "    <tr>\n",
       "      <th>1375780</th>\n",
       "      <td>3512.594489</td>\n",
       "      <td>0</td>\n",
       "    </tr>\n",
       "    <tr>\n",
       "      <th>778581</th>\n",
       "      <td>3533.436209</td>\n",
       "      <td>0</td>\n",
       "    </tr>\n",
       "    <tr>\n",
       "      <th>1527698</th>\n",
       "      <td>3698.943574</td>\n",
       "      <td>0</td>\n",
       "    </tr>\n",
       "    <tr>\n",
       "      <th>1489672</th>\n",
       "      <td>4172.201156</td>\n",
       "      <td>0</td>\n",
       "    </tr>\n",
       "    <tr>\n",
       "      <th>1069624</th>\n",
       "      <td>3204.281156</td>\n",
       "      <td>0</td>\n",
       "    </tr>\n",
       "    <tr>\n",
       "      <th>190209</th>\n",
       "      <td>4100.460229</td>\n",
       "      <td>0</td>\n",
       "    </tr>\n",
       "    <tr>\n",
       "      <th>1396691</th>\n",
       "      <td>4322.518489</td>\n",
       "      <td>0</td>\n",
       "    </tr>\n",
       "    <tr>\n",
       "      <th>1130757</th>\n",
       "      <td>4460.697823</td>\n",
       "      <td>0</td>\n",
       "    </tr>\n",
       "    <tr>\n",
       "      <th>1192833</th>\n",
       "      <td>4880.756241</td>\n",
       "      <td>0</td>\n",
       "    </tr>\n",
       "    <tr>\n",
       "      <th>1318278</th>\n",
       "      <td>4464.497823</td>\n",
       "      <td>0</td>\n",
       "    </tr>\n",
       "    <tr>\n",
       "      <th>623163</th>\n",
       "      <td>3468.578183</td>\n",
       "      <td>0</td>\n",
       "    </tr>\n",
       "    <tr>\n",
       "      <th>941274</th>\n",
       "      <td>3980.164489</td>\n",
       "      <td>0</td>\n",
       "    </tr>\n",
       "    <tr>\n",
       "      <th>789405</th>\n",
       "      <td>4887.519989</td>\n",
       "      <td>0</td>\n",
       "    </tr>\n",
       "    <tr>\n",
       "      <th>1476912</th>\n",
       "      <td>4581.801156</td>\n",
       "      <td>0</td>\n",
       "    </tr>\n",
       "    <tr>\n",
       "      <th>1338738</th>\n",
       "      <td>3538.818489</td>\n",
       "      <td>0</td>\n",
       "    </tr>\n",
       "    <tr>\n",
       "      <th>819816</th>\n",
       "      <td>4864.118489</td>\n",
       "      <td>0</td>\n",
       "    </tr>\n",
       "    <tr>\n",
       "      <th>544109</th>\n",
       "      <td>2575.563542</td>\n",
       "      <td>0</td>\n",
       "    </tr>\n",
       "    <tr>\n",
       "      <th>1291348</th>\n",
       "      <td>4234.422489</td>\n",
       "      <td>0</td>\n",
       "    </tr>\n",
       "    <tr>\n",
       "      <th>356338</th>\n",
       "      <td>3404.221963</td>\n",
       "      <td>0</td>\n",
       "    </tr>\n",
       "    <tr>\n",
       "      <th>1196392</th>\n",
       "      <td>4189.918489</td>\n",
       "      <td>0</td>\n",
       "    </tr>\n",
       "    <tr>\n",
       "      <th>...</th>\n",
       "      <td>...</td>\n",
       "      <td>...</td>\n",
       "    </tr>\n",
       "    <tr>\n",
       "      <th>1548622</th>\n",
       "      <td>3763.328342</td>\n",
       "      <td>1</td>\n",
       "    </tr>\n",
       "    <tr>\n",
       "      <th>1548623</th>\n",
       "      <td>3621.101045</td>\n",
       "      <td>1</td>\n",
       "    </tr>\n",
       "    <tr>\n",
       "      <th>1548902</th>\n",
       "      <td>4950.035009</td>\n",
       "      <td>1</td>\n",
       "    </tr>\n",
       "    <tr>\n",
       "      <th>1548903</th>\n",
       "      <td>4958.235009</td>\n",
       "      <td>1</td>\n",
       "    </tr>\n",
       "    <tr>\n",
       "      <th>1548904</th>\n",
       "      <td>4966.568342</td>\n",
       "      <td>1</td>\n",
       "    </tr>\n",
       "    <tr>\n",
       "      <th>1548905</th>\n",
       "      <td>4575.617545</td>\n",
       "      <td>1</td>\n",
       "    </tr>\n",
       "    <tr>\n",
       "      <th>1548906</th>\n",
       "      <td>4351.163009</td>\n",
       "      <td>1</td>\n",
       "    </tr>\n",
       "    <tr>\n",
       "      <th>1548907</th>\n",
       "      <td>4331.305443</td>\n",
       "      <td>1</td>\n",
       "    </tr>\n",
       "    <tr>\n",
       "      <th>1548908</th>\n",
       "      <td>4340.172109</td>\n",
       "      <td>1</td>\n",
       "    </tr>\n",
       "    <tr>\n",
       "      <th>1548909</th>\n",
       "      <td>4760.909009</td>\n",
       "      <td>1</td>\n",
       "    </tr>\n",
       "    <tr>\n",
       "      <th>1548910</th>\n",
       "      <td>4770.042342</td>\n",
       "      <td>1</td>\n",
       "    </tr>\n",
       "    <tr>\n",
       "      <th>1549816</th>\n",
       "      <td>5211.575676</td>\n",
       "      <td>1</td>\n",
       "    </tr>\n",
       "    <tr>\n",
       "      <th>1549817</th>\n",
       "      <td>5564.246212</td>\n",
       "      <td>1</td>\n",
       "    </tr>\n",
       "    <tr>\n",
       "      <th>1549818</th>\n",
       "      <td>6027.358329</td>\n",
       "      <td>1</td>\n",
       "    </tr>\n",
       "    <tr>\n",
       "      <th>1549819</th>\n",
       "      <td>6484.980212</td>\n",
       "      <td>1</td>\n",
       "    </tr>\n",
       "    <tr>\n",
       "      <th>1549820</th>\n",
       "      <td>5195.688342</td>\n",
       "      <td>1</td>\n",
       "    </tr>\n",
       "    <tr>\n",
       "      <th>1549821</th>\n",
       "      <td>6690.730212</td>\n",
       "      <td>1</td>\n",
       "    </tr>\n",
       "    <tr>\n",
       "      <th>1549822</th>\n",
       "      <td>5765.435842</td>\n",
       "      <td>1</td>\n",
       "    </tr>\n",
       "    <tr>\n",
       "      <th>1549823</th>\n",
       "      <td>5151.045045</td>\n",
       "      <td>1</td>\n",
       "    </tr>\n",
       "    <tr>\n",
       "      <th>1549824</th>\n",
       "      <td>5483.389675</td>\n",
       "      <td>1</td>\n",
       "    </tr>\n",
       "    <tr>\n",
       "      <th>1550664</th>\n",
       "      <td>8848.790878</td>\n",
       "      <td>1</td>\n",
       "    </tr>\n",
       "    <tr>\n",
       "      <th>1550665</th>\n",
       "      <td>4167.226342</td>\n",
       "      <td>1</td>\n",
       "    </tr>\n",
       "    <tr>\n",
       "      <th>1550666</th>\n",
       "      <td>4570.795009</td>\n",
       "      <td>1</td>\n",
       "    </tr>\n",
       "    <tr>\n",
       "      <th>1550667</th>\n",
       "      <td>7366.216547</td>\n",
       "      <td>1</td>\n",
       "    </tr>\n",
       "    <tr>\n",
       "      <th>1550668</th>\n",
       "      <td>4476.603009</td>\n",
       "      <td>1</td>\n",
       "    </tr>\n",
       "    <tr>\n",
       "      <th>1550669</th>\n",
       "      <td>6047.496878</td>\n",
       "      <td>1</td>\n",
       "    </tr>\n",
       "    <tr>\n",
       "      <th>1550670</th>\n",
       "      <td>5027.035009</td>\n",
       "      <td>1</td>\n",
       "    </tr>\n",
       "    <tr>\n",
       "      <th>1550671</th>\n",
       "      <td>5071.879676</td>\n",
       "      <td>1</td>\n",
       "    </tr>\n",
       "    <tr>\n",
       "      <th>1550672</th>\n",
       "      <td>4489.968342</td>\n",
       "      <td>1</td>\n",
       "    </tr>\n",
       "    <tr>\n",
       "      <th>1550673</th>\n",
       "      <td>4503.749676</td>\n",
       "      <td>1</td>\n",
       "    </tr>\n",
       "  </tbody>\n",
       "</table>\n",
       "<p>381675 rows × 2 columns</p>\n",
       "</div>"
      ],
      "text/plain": [
       "         Reconstruction_error  True_class\n",
       "1146058           2991.075823           0\n",
       "1435373           4774.439156           0\n",
       "105319            3537.577676           0\n",
       "1134544           3400.511156           0\n",
       "229415            3645.935563           0\n",
       "959350            3490.241156           0\n",
       "1116973           3085.755676           0\n",
       "496561            3976.296069           0\n",
       "444470            3525.331989           0\n",
       "11369             5677.307102           0\n",
       "1375780           3512.594489           0\n",
       "778581            3533.436209           0\n",
       "1527698           3698.943574           0\n",
       "1489672           4172.201156           0\n",
       "1069624           3204.281156           0\n",
       "190209            4100.460229           0\n",
       "1396691           4322.518489           0\n",
       "1130757           4460.697823           0\n",
       "1192833           4880.756241           0\n",
       "1318278           4464.497823           0\n",
       "623163            3468.578183           0\n",
       "941274            3980.164489           0\n",
       "789405            4887.519989           0\n",
       "1476912           4581.801156           0\n",
       "1338738           3538.818489           0\n",
       "819816            4864.118489           0\n",
       "544109            2575.563542           0\n",
       "1291348           4234.422489           0\n",
       "356338            3404.221963           0\n",
       "1196392           4189.918489           0\n",
       "...                       ...         ...\n",
       "1548622           3763.328342           1\n",
       "1548623           3621.101045           1\n",
       "1548902           4950.035009           1\n",
       "1548903           4958.235009           1\n",
       "1548904           4966.568342           1\n",
       "1548905           4575.617545           1\n",
       "1548906           4351.163009           1\n",
       "1548907           4331.305443           1\n",
       "1548908           4340.172109           1\n",
       "1548909           4760.909009           1\n",
       "1548910           4770.042342           1\n",
       "1549816           5211.575676           1\n",
       "1549817           5564.246212           1\n",
       "1549818           6027.358329           1\n",
       "1549819           6484.980212           1\n",
       "1549820           5195.688342           1\n",
       "1549821           6690.730212           1\n",
       "1549822           5765.435842           1\n",
       "1549823           5151.045045           1\n",
       "1549824           5483.389675           1\n",
       "1550664           8848.790878           1\n",
       "1550665           4167.226342           1\n",
       "1550666           4570.795009           1\n",
       "1550667           7366.216547           1\n",
       "1550668           4476.603009           1\n",
       "1550669           6047.496878           1\n",
       "1550670           5027.035009           1\n",
       "1550671           5071.879676           1\n",
       "1550672           4489.968342           1\n",
       "1550673           4503.749676           1\n",
       "\n",
       "[381675 rows x 2 columns]"
      ]
     },
     "execution_count": 143,
     "metadata": {},
     "output_type": "execute_result"
    }
   ],
   "source": [
    "error_df"
   ]
  },
  {
   "cell_type": "markdown",
   "metadata": {},
   "source": [
    "## Test for patients with sepsis"
   ]
  },
  {
   "cell_type": "code",
   "execution_count": 178,
   "metadata": {},
   "outputs": [
    {
     "data": {
      "text/plain": [
       "(400, 2)"
      ]
     },
     "execution_count": 178,
     "metadata": {},
     "output_type": "execute_result"
    }
   ],
   "source": [
    "d = pd.concat([error_df.iloc[1:200,],error_df.iloc[381474:381675,]], axis=0)\n",
    "d.shape"
   ]
  },
  {
   "cell_type": "code",
   "execution_count": 180,
   "metadata": {},
   "outputs": [],
   "source": [
    "precision_rt, recall_rt, threshold_rt = precision_recall_curve(d.True_class, d.Reconstruction_error)"
   ]
  },
  {
   "cell_type": "code",
   "execution_count": 193,
   "metadata": {},
   "outputs": [
    {
     "data": {
      "image/png": "[encoded data removed]",
      "text/plain": [
       "<Figure size 432x288 with 1 Axes>"
      ]
     },
     "metadata": {
      "needs_background": "light"
     },
     "output_type": "display_data"
    }
   ],
   "source": [
    "plt.plot(threshold_rt, precision_rt[1:], label=\"Precision\",linewidth=2, color='red')\n",
    "plt.plot(threshold_rt, recall_rt[1:], label=\"Recall\",linewidth=2, color='blue')\n",
    "#plt.title('Precision and recall for different threshold values', size = 20)\n",
    "plt.xlabel(' RE threshold', size = 10)\n",
    "plt.ylabel('Precision/Recall', size = 10)\n",
    "plt.yticks(size = 10);\n",
    "plt.legend()\n",
    "plt.axvline(x=4000, color='k')\n",
    "plt.savefig('precisionrecall.png')"
   ]
  },
  {
   "cell_type": "code",
   "execution_count": 190,
   "metadata": {},
   "outputs": [
    {
     "data": {
      "image/png": "[encoded data removed]",
      "text/plain": [
       "<Figure size 720x720 with 1 Axes>"
      ]
     },
     "metadata": {
      "needs_background": "light"
     },
     "output_type": "display_data"
    }
   ],
   "source": [
    "threshold_fixed = 6000\n",
    "groups = d.groupby('True_class')\n",
    "fig, ax = plt.subplots(figsize=(10,10))\n",
    "\n",
    "for name, group in groups:\n",
    "    ax.plot(group.index, group.Reconstruction_error, marker='o', ms=3.5, linestyle='',\n",
    "            label= \"Sepsis\" if name == 1 else \"Normal\")\n",
    "ax.hlines(threshold_fixed, ax.get_xlim()[0], ax.get_xlim()[1], colors=\"r\", zorder=100, label='Threshold')\n",
    "ax.legend()\n",
    "plt.title(\"Reconstruction error for different classes\")\n",
    "plt.ylabel(\"Reconstruction error\")\n",
    "plt.xlabel(\"Data point index\")\n",
    "plt.show();"
   ]
  },
  {
   "cell_type": "code",
   "execution_count": 194,
   "metadata": {},
   "outputs": [
    {
     "data": {
      "image/png": "[encoded data removed]",
      "text/plain": [
       "<Figure size 1080x720 with 1 Axes>"
      ]
     },
     "metadata": {
      "needs_background": "light"
     },
     "output_type": "display_data"
    }
   ],
   "source": [
    "fig = plt.subplots(figsize=(15, 10))\n",
    "sns.distplot(d[d[\"True_class\"]==0].Reconstruction_error,  rug=False, label=\"Healthy\")\n",
    "sns.distplot(d[d[\"True_class\"]==1].Reconstruction_error, rug=False,  label=\"Sepsis\",  color='red');\n",
    "plt.legend(loc=1, prop={'size': 30})\n",
    "plt.xticks(size =15)\n",
    "plt.rc('legend', fontsize=15)   \n",
    "#plt.title(\"Reconstruction Error on Test data\", size =20)\n",
    "plt.axvline(x=4000, color='k')\n",
    "plt.xlabel('Reconstruction Error on test data (1000 patients)', size = 20)\n",
    "plt.savefig('imbalanced_dataset.png')\n",
    "plt.yticks(size = 15);\n",
    "plt.savefig('autoencoder.png')"
   ]
  },
  {
   "cell_type": "code",
   "execution_count": 195,
   "metadata": {},
   "outputs": [],
   "source": [
    "# create another feature RE\n",
    "data = X_tr\n",
    "y = data.SepsisLabel\n",
    "data.drop(['SepsisLabel','ID'], axis = 1, inplace = True)"
   ]
  },
  {
   "cell_type": "code",
   "execution_count": null,
   "metadata": {},
   "outputs": [],
   "source": [
    "data = data.values"
   ]
  },
  {
   "cell_type": "code",
   "execution_count": null,
   "metadata": {},
   "outputs": [],
   "source": [
    "allpredictions = loaded_model.predict(data)\n"
   ]
  },
  {
   "cell_type": "code",
   "execution_count": null,
   "metadata": {},
   "outputs": [],
   "source": [
    "mse = np.mean(np.power(data - allpredictions, 2), axis=1)\n",
    "f = pd.DataFrame({'Reconstruction_error': mse,\n",
    "                        'True_class':y})\n",
    "f.describe()"
   ]
  },
  {
   "cell_type": "code",
   "execution_count": null,
   "metadata": {},
   "outputs": [],
   "source": [
    "len(f.Reconstruction_error)"
   ]
  },
  {
   "cell_type": "code",
   "execution_count": null,
   "metadata": {},
   "outputs": [],
   "source": [
    "np.savetxt(\"REfromAENN.csv\", f.Reconstruction_error, fmt='%s')"
   ]
  },
  {
   "cell_type": "markdown",
   "metadata": {},
   "source": [
    "## Classification"
   ]
  },
  {
   "cell_type": "code",
   "execution_count": 57,
   "metadata": {},
   "outputs": [],
   "source": [
    "from sklearn.ensemble import GradientBoostingClassifier,RandomForestClassifier\n",
    "from sklearn.neighbors import KNeighborsClassifier\n",
    "from sklearn.tree import DecisionTreeClassifier\n",
    "from sklearn.metrics import roc_auc_score,roc_curve,auc\n",
    "from sklearn.model_selection import cross_val_score\n",
    "from sklearn.gaussian_process import GaussianProcessClassifier\n",
    "from sklearn.ensemble import AdaBoostClassifier\n",
    "from sklearn.model_selection import train_test_split\n",
    "from sklearn.ensemble import RandomForestRegressor\n",
    "from sklearn.linear_model import LinearRegression\n",
    "import glob\n",
    "from sklearn import linear_model\n",
    "import datetime\n",
    "from sklearn.preprocessing import  StandardScaler, MinMaxScaler\n",
    "from sklearn.model_selection import learning_curve, GridSearchCV\n",
    "from random import sample \n",
    "from sklearn.linear_model import LogisticRegression\n"
   ]
  },
  {
   "cell_type": "code",
   "execution_count": 58,
   "metadata": {},
   "outputs": [
    {
     "data": {
      "text/plain": [
       "(1552210, 43)"
      ]
     },
     "execution_count": 58,
     "metadata": {},
     "output_type": "execute_result"
    }
   ],
   "source": [
    "X_tr = pd.read_csv('SEPSIS_ALL.csv')\n",
    "X_tr.shape"
   ]
  },
  {
   "cell_type": "code",
   "execution_count": 59,
   "metadata": {},
   "outputs": [
    {
     "name": "stderr",
     "output_type": "stream",
     "text": [
      "/anaconda3/lib/python3.7/site-packages/pandas/core/generic.py:6130: SettingWithCopyWarning: \n",
      "A value is trying to be set on a copy of a slice from a DataFrame\n",
      "\n",
      "See the caveats in the documentation: http://pandas.pydata.org/pandas-docs/stable/indexing.html#indexing-view-versus-copy\n",
      "  self._update_inplace(new_data)\n",
      "/anaconda3/lib/python3.7/site-packages/pandas/core/frame.py:4034: SettingWithCopyWarning: \n",
      "A value is trying to be set on a copy of a slice from a DataFrame\n",
      "\n",
      "See the caveats in the documentation: http://pandas.pydata.org/pandas-docs/stable/indexing.html#indexing-view-versus-copy\n",
      "  downcast=downcast, **kwargs)\n"
     ]
    }
   ],
   "source": [
    "X_tr.drop(['EtCO2', 'BaseExcess','HCO3', 'FiO2', 'pH', 'PaCO2', 'SaO2', 'AST', 'BUN', 'Alkalinephos',\n",
    "    'Calcium', 'Chloride','Magnesium','Phosphate',\n",
    "    'Potassium', 'Bilirubin_total', 'TroponinI','Hct', 'Hgb',  'Unnamed: 0','Fibrinogen', 'Platelets',\n",
    " 'Unit1', \"Unit2\"], axis = 1, inplace = True)\n",
    "\n",
    "\n",
    "data = X_tr[(X_tr['Bilirubin_direct']).notnull()]\n",
    "data2 = X_tr[(X_tr['Lactate']).notnull()]\n",
    "data3 = X_tr[(X_tr['PTT']).notnull()] \n",
    "data4 = X_tr[(X_tr['Creatinine']).notnull()] \n",
    "data5 = X_tr[(X_tr['WBC']).notnull()] \n",
    "data6 = X_tr[(X_tr['Glucose']).notnull()]\n",
    "#healthy patients\n",
    "BR_healthy = sum(data[data.SepsisLabel ==0].Bilirubin_direct)/len(data[data.SepsisLabel ==0].Bilirubin_direct)\n",
    "lact_healthy = sum(data2[data2.SepsisLabel ==0].Lactate)/len(data2[data2.SepsisLabel ==0].Lactate)\n",
    "ptt_healthy = sum(data3[data3.SepsisLabel ==0].PTT)/len(data3[data3.SepsisLabel ==0].PTT)\n",
    "creat_healthy = sum(data4[data4.SepsisLabel ==0].Creatinine)/len(data4[data4.SepsisLabel ==0].Creatinine)\n",
    "WBC_healthy = sum(data5[data5.SepsisLabel ==0].WBC)/len(data5[data5.SepsisLabel ==0].WBC)\n",
    "glucose_healthy = sum(data6[data6.SepsisLabel ==0].Glucose)/len(data6[data6.SepsisLabel ==0].Glucose)\n",
    "\n",
    "# sepsis patients\n",
    "BR_sepsis = sum(data[data.SepsisLabel ==1].Bilirubin_direct)/len(data[data.SepsisLabel ==1].Bilirubin_direct)\n",
    "lact_sepsis = sum(data2[data2.SepsisLabel ==1].Lactate)/len(data2[data2.SepsisLabel ==1].Lactate)\n",
    "ptt_sepsis= sum(data3[data3.SepsisLabel ==1].PTT)/len(data3[data3.SepsisLabel ==1].PTT)\n",
    "creat_sepsis = sum(data4[data4.SepsisLabel ==1].Creatinine)/len(data4[data4.SepsisLabel ==1].Creatinine)\n",
    "WBC_sepsis = sum(data5[data5.SepsisLabel ==1].WBC)/len(data5[data5.SepsisLabel ==1].WBC)\n",
    "glucose_sepsis = sum(data6[data6.SepsisLabel ==1].Glucose)/len(data6[data6.SepsisLabel ==1].Glucose)\n",
    "healthy = X_tr[X_tr.SepsisLabel == 0]\n",
    "sepsis = X_tr[X_tr.SepsisLabel == 1]\n",
    "\n",
    "healthy['Bilirubin_direct'].fillna(value=BR_healthy, inplace=True)\n",
    "healthy['Lactate'].fillna(value=lact_healthy, inplace=True)\n",
    "healthy['PTT'].fillna(value=ptt_healthy, inplace=True)\n",
    "healthy['Creatinine'].fillna(value=creat_healthy, inplace=True)\n",
    "healthy['WBC'].fillna(value=WBC_healthy, inplace=True)\n",
    "healthy['Glucose'].fillna(value=glucose_healthy , inplace=True)\n",
    "\n",
    "sepsis['Bilirubin_direct'].fillna(value=BR_sepsis, inplace=True)\n",
    "sepsis['Lactate'].fillna(value=lact_sepsis, inplace=True)\n",
    "sepsis['PTT'].fillna(value=ptt_sepsis, inplace=True)\n",
    "sepsis['Creatinine'].fillna(value=creat_sepsis, inplace=True)\n",
    "sepsis['WBC'].fillna(value=WBC_sepsis, inplace=True)\n",
    "sepsis['Glucose'].fillna(value=glucose_sepsis, inplace=True)\n",
    "\n",
    "\n",
    "sepsis.fillna(method='bfill', inplace=True)\n",
    "sepsis.fillna(method='ffill', inplace=True)\n",
    "healthy.fillna(method='bfill', inplace=True)\n",
    "healthy.fillna(method='ffill', inplace=True)\n",
    "\n",
    "X_tr = pd.concat([sepsis, healthy]).sort_index()"
   ]
  },
  {
   "cell_type": "code",
   "execution_count": 60,
   "metadata": {},
   "outputs": [],
   "source": [
    "X_tr.fillna(method='bfill', inplace=True)\n",
    "X_tr.fillna(method='ffill', inplace=True)"
   ]
  },
  {
   "cell_type": "code",
   "execution_count": 61,
   "metadata": {},
   "outputs": [
    {
     "data": {
      "text/plain": [
       "(1552210, 19)"
      ]
     },
     "execution_count": 61,
     "metadata": {},
     "output_type": "execute_result"
    }
   ],
   "source": [
    "X_tr.shape"
   ]
  },
  {
   "cell_type": "code",
   "execution_count": 62,
   "metadata": {},
   "outputs": [
    {
     "data": {
      "text/plain": [
       "34836"
      ]
     },
     "execution_count": 62,
     "metadata": {},
     "output_type": "execute_result"
    }
   ],
   "source": [
    "df = pd.read_csv('patients_train_today.csv')\n",
    "len(df.ID.unique())"
   ]
  },
  {
   "cell_type": "code",
   "execution_count": 63,
   "metadata": {},
   "outputs": [],
   "source": [
    "total  = list(set(X_tr.ID.unique()) - set(df.ID.unique()) )"
   ]
  },
  {
   "cell_type": "code",
   "execution_count": 64,
   "metadata": {},
   "outputs": [],
   "source": [
    "Y_tr = df.SepsisLabel\n",
    "df.drop(['SepsisLabel','ID','Unnamed: 0', 'O2Sat','HospAdmTime'], axis = 1, inplace = True)"
   ]
  },
  {
   "cell_type": "code",
   "execution_count": 65,
   "metadata": {},
   "outputs": [],
   "source": [
    "X_train, X_test, y_train, y_test = train_test_split(df,Y_tr,test_size=.3, random_state=10)"
   ]
  },
  {
   "cell_type": "code",
   "execution_count": 70,
   "metadata": {},
   "outputs": [
    {
     "name": "stderr",
     "output_type": "stream",
     "text": [
      "/anaconda3/lib/python3.7/site-packages/ipykernel_launcher.py:3: SettingWithCopyWarning: \n",
      "A value is trying to be set on a copy of a slice from a DataFrame.\n",
      "Try using .loc[row_indexer,col_indexer] = value instead\n",
      "\n",
      "See the caveats in the documentation: http://pandas.pydata.org/pandas-docs/stable/indexing.html#indexing-view-versus-copy\n",
      "  This is separate from the ipykernel package so we can avoid doing imports until\n"
     ]
    }
   ],
   "source": [
    "test_x_predictions = loaded_model.predict(X_train)\n",
    "mse = np.mean(np.power(X_train- test_x_predictions, 2), axis=1)\n",
    "X_train['RE']  = mse"
   ]
  },
  {
   "cell_type": "code",
   "execution_count": 71,
   "metadata": {},
   "outputs": [
    {
     "name": "stderr",
     "output_type": "stream",
     "text": [
      "/anaconda3/lib/python3.7/site-packages/ipykernel_launcher.py:3: SettingWithCopyWarning: \n",
      "A value is trying to be set on a copy of a slice from a DataFrame.\n",
      "Try using .loc[row_indexer,col_indexer] = value instead\n",
      "\n",
      "See the caveats in the documentation: http://pandas.pydata.org/pandas-docs/stable/indexing.html#indexing-view-versus-copy\n",
      "  This is separate from the ipykernel package so we can avoid doing imports until\n"
     ]
    }
   ],
   "source": [
    "test_x_predictions = loaded_model.predict(X_test)\n",
    "mse = np.mean(np.power(X_test- test_x_predictions, 2), axis=1)\n",
    "X_test['RE']  =mse"
   ]
  },
  {
   "cell_type": "code",
   "execution_count": 72,
   "metadata": {},
   "outputs": [
    {
     "data": {
      "text/plain": [
       "(937561, 16)"
      ]
     },
     "execution_count": 72,
     "metadata": {},
     "output_type": "execute_result"
    }
   ],
   "source": [
    "X_train.shape"
   ]
  },
  {
   "cell_type": "code",
   "execution_count": null,
   "metadata": {},
   "outputs": [
    {
     "name": "stderr",
     "output_type": "stream",
     "text": [
      "/anaconda3/lib/python3.7/site-packages/sklearn/linear_model/logistic.py:433: FutureWarning: Default solver will be changed to 'lbfgs' in 0.22. Specify a solver to silence this warning.\n",
      "  FutureWarning)\n",
      "/anaconda3/lib/python3.7/site-packages/sklearn/linear_model/logistic.py:433: FutureWarning: Default solver will be changed to 'lbfgs' in 0.22. Specify a solver to silence this warning.\n",
      "  FutureWarning)\n",
      "/anaconda3/lib/python3.7/site-packages/sklearn/linear_model/logistic.py:433: FutureWarning: Default solver will be changed to 'lbfgs' in 0.22. Specify a solver to silence this warning.\n",
      "  FutureWarning)\n",
      "/anaconda3/lib/python3.7/site-packages/sklearn/linear_model/logistic.py:433: FutureWarning: Default solver will be changed to 'lbfgs' in 0.22. Specify a solver to silence this warning.\n",
      "  FutureWarning)\n",
      "/anaconda3/lib/python3.7/site-packages/sklearn/linear_model/logistic.py:433: FutureWarning: Default solver will be changed to 'lbfgs' in 0.22. Specify a solver to silence this warning.\n",
      "  FutureWarning)\n"
     ]
    },
    {
     "name": "stdout",
     "output_type": "stream",
     "text": [
      "LogisticRegression: 0.9966 (+/- 0.0017)\n",
      "GradientBoostingClassifier: 1.0000 (+/- 0.0000)\n"
     ]
    },
    {
     "name": "stderr",
     "output_type": "stream",
     "text": [
      "/anaconda3/lib/python3.7/site-packages/sklearn/ensemble/forest.py:246: FutureWarning: The default value of n_estimators will change from 10 in version 0.20 to 100 in 0.22.\n",
      "  \"10 in version 0.20 to 100 in 0.22.\", FutureWarning)\n",
      "/anaconda3/lib/python3.7/site-packages/sklearn/ensemble/forest.py:246: FutureWarning: The default value of n_estimators will change from 10 in version 0.20 to 100 in 0.22.\n",
      "  \"10 in version 0.20 to 100 in 0.22.\", FutureWarning)\n",
      "/anaconda3/lib/python3.7/site-packages/sklearn/ensemble/forest.py:246: FutureWarning: The default value of n_estimators will change from 10 in version 0.20 to 100 in 0.22.\n",
      "  \"10 in version 0.20 to 100 in 0.22.\", FutureWarning)\n",
      "/anaconda3/lib/python3.7/site-packages/sklearn/ensemble/forest.py:246: FutureWarning: The default value of n_estimators will change from 10 in version 0.20 to 100 in 0.22.\n",
      "  \"10 in version 0.20 to 100 in 0.22.\", FutureWarning)\n",
      "/anaconda3/lib/python3.7/site-packages/sklearn/ensemble/forest.py:246: FutureWarning: The default value of n_estimators will change from 10 in version 0.20 to 100 in 0.22.\n",
      "  \"10 in version 0.20 to 100 in 0.22.\", FutureWarning)\n"
     ]
    },
    {
     "name": "stdout",
     "output_type": "stream",
     "text": [
      "RandomForest: 1.0000 (+/- 0.0001)\n"
     ]
    }
   ],
   "source": [
    "clfs = {}\n",
    "\n",
    "clfs['reg'] = {'clf': LogisticRegression(), 'name': 'LogisticRegression'}\n",
    "clfs['gbc'] = {'clf': GradientBoostingClassifier(), 'name': 'GradientBoostingClassifier'}\n",
    "clfs['rf'] = {'clf': RandomForestClassifier( n_jobs=-1), 'name':'RandomForest'}\n",
    "clfs['knn'] = {'clf': KNeighborsClassifier(), 'name': 'KNeighborsClassifier'}\n",
    "\n",
    "\n",
    "\n",
    "\n",
    "def Evaluation(clfs):\n",
    "    for clf in clfs:\n",
    "        clfs[clf]['score'] = cross_val_score(clfs[clf]['clf'], X_train,y_train, cv=5,scoring='roc_auc')\n",
    "        print(clfs[clf]['name'] + \": %0.4f (+/- %0.4f)\" % (clfs[clf]['score'].mean(), clfs[clf]['score'].std()*2))\n",
    "\n",
    "Evaluation(clfs)"
   ]
  },
  {
   "cell_type": "code",
   "execution_count": 73,
   "metadata": {},
   "outputs": [
    {
     "name": "stderr",
     "output_type": "stream",
     "text": [
      "/anaconda3/lib/python3.7/site-packages/sklearn/linear_model/logistic.py:758: ConvergenceWarning: lbfgs failed to converge. Increase the number of iterations.\n",
      "  \"of iterations.\", ConvergenceWarning)\n"
     ]
    }
   ],
   "source": [
    "from sklearn.linear_model import LogisticRegression\n",
    "from sklearn.externals import joblib\n",
    "class_weights=  {0: 1.,\n",
    "                1: 10.}\n",
    "\n",
    "clf1 = LogisticRegression(random_state=0, solver='lbfgs', class_weight=class_weights).fit(X_train, y_train)"
   ]
  },
  {
   "cell_type": "code",
   "execution_count": 74,
   "metadata": {},
   "outputs": [],
   "source": [
    "clf2 = AdaBoostClassifier(n_estimators=100).fit(X_train, y_train)"
   ]
  },
  {
   "cell_type": "code",
   "execution_count": 75,
   "metadata": {},
   "outputs": [],
   "source": [
    "clf3 = GradientBoostingClassifier(n_estimators=100).fit(X_train, y_train)"
   ]
  },
  {
   "cell_type": "code",
   "execution_count": 76,
   "metadata": {},
   "outputs": [],
   "source": [
    "clf4 = RandomForestClassifier( n_estimators=100, criterion ='gini').fit(X_train, y_train)"
   ]
  },
  {
   "cell_type": "code",
   "execution_count": 77,
   "metadata": {},
   "outputs": [],
   "source": [
    "clf5 = DecisionTreeClassifier(criterion ='gini', class_weight=class_weights).fit(X_train, y_train)"
   ]
  },
  {
   "cell_type": "code",
   "execution_count": 78,
   "metadata": {},
   "outputs": [],
   "source": [
    "clf6 = KNeighborsClassifier(n_neighbors=12).fit(X_train, y_train)"
   ]
  },
  {
   "cell_type": "code",
   "execution_count": 28,
   "metadata": {},
   "outputs": [],
   "source": [
    "def compute_auc(labels, predictions):\n",
    "    # Check inputs for errors.\n",
    "\n",
    "    # Find prediction thresholds.\n",
    "    thresholds = np.unique(predictions)[::-1]\n",
    "    if thresholds[0] != 1:\n",
    "        thresholds = np.concatenate((np.array([1]), thresholds))\n",
    "\n",
    "    if thresholds[-1] != 0:\n",
    "        thresholds = np.concatenate((thresholds, np.array([0])))\n",
    "    m = len(thresholds)\n",
    "\n",
    "    # Populate contingency table across prediction thresholds.\n",
    "    tp = np.zeros(m)\n",
    "    fp = np.zeros(m)\n",
    "    fn = np.zeros(m)\n",
    "    tn = np.zeros(m)\n",
    "\n",
    "    # Find indices that sort predicted probabilities from largest to smallest.\n",
    "    idx = np.argsort(predictions)[::-1]\n",
    "\n",
    "    i = 0\n",
    "    for j in range(m):\n",
    "        # Initialize contingency table for j-th prediction threshold.\n",
    "        if j == 0:\n",
    "            tp[j] = 0\n",
    "            fp[j] = 0\n",
    "            fn[j] = np.sum(labels == 1)\n",
    "            tn[j] = np.sum(labels == 0)\n",
    "        else:\n",
    "            tp[j] = tp[j - 1]\n",
    "            fp[j] = fp[j - 1]\n",
    "            fn[j] = fn[j - 1]\n",
    "            tn[j] = tn[j - 1]\n",
    "\n",
    "        # Update contingency table for i-th largest prediction probability.\n",
    "        while i < n and predictions[idx[i]] >= thresholds[j]:\n",
    "            if labels[idx[i]]:\n",
    "                tp[j] += 1\n",
    "                fn[j] -= 1\n",
    "            else:\n",
    "                fp[j] += 1\n",
    "                tn[j] -= 1\n",
    "            i += 1\n",
    "\n",
    "    # Summarize contingency table.\n",
    "    tpr = np.zeros(m)\n",
    "    tnr = np.zeros(m)\n",
    "    ppv = np.zeros(m)\n",
    "    npv = np.zeros(m)\n",
    "\n",
    "    for j in range(m):\n",
    "        if tp[j] + fn[j]:\n",
    "            tpr[j] = tp[j] / (tp[j] + fn[j])\n",
    "        else:\n",
    "            tpr[j] = 1\n",
    "        if fp[j] + tn[j]:\n",
    "            tnr[j] = tn[j] / (fp[j] + tn[j])\n",
    "        else:\n",
    "            tnr[j] = 1\n",
    "        if tp[j] + fp[j]:\n",
    "            ppv[j] = tp[j] / (tp[j] + fp[j])\n",
    "        else:\n",
    "            ppv[j] = 1\n",
    "        if fn[j] + tn[j]:\n",
    "            npv[j] = tn[j] / (fn[j] + tn[j])\n",
    "        else:\n",
    "            npv[j] = 1\n",
    "\n",
    "    # Compute AUROC as the area under a piecewise linear function of TPR /\n",
    "    # sensitivity (x-axis) and TNR / specificity (y-axis) and AUPRC as the area\n",
    "    # under a piecewise constant of TPR / recall (x-axis) and PPV / precision\n",
    "    # (y-axis).\n",
    "    auroc = 0\n",
    "    auprc = 0\n",
    "    for j in range(m-1):\n",
    "        auroc += 0.5 * (tpr[j + 1] - tpr[j]) * (tnr[j + 1] + tnr[j])\n",
    "        auprc += (tpr[j + 1] - tpr[j]) * ppv[j + 1]\n",
    "\n",
    "    return auroc, auprc\n",
    "\n",
    "# The compute_accuracy_f_measure function computes the accuracy and F-measure\n",
    "# for a patient.\n",
    "#\n",
    "# Inputs:\n",
    "#   'labels' is a binary vector, where labels[i] == 0 if the patient is not\n",
    "#   labeled as septic at time i and labels[i] == 1 if the patient is labeled as\n",
    "#   septic at time i.\n",
    "#\n",
    "#   'predictions' is a binary vector, where predictions[i] == 0 if the patient\n",
    "#   is not predicted to be septic at time i and predictions[i] == 1 if the\n",
    "#   patient is predicted to be septic at time i.  Note that there must be a\n",
    "#   prediction for every label, i.e, len(labels) == len(predictions).\n",
    "#\n",
    "# Output:\n",
    "#   'accuracy' is a scalar that gives the accuracy of the classifier using its\n",
    "#   binarized predictions.\n",
    "#\n",
    "#   'f_measure' is a scalar that gives the F-measure of the classifier using its\n",
    "#   binarized predictions.\n",
    "#\n",
    "# Example:\n",
    "#   In [1]: labels = [0, 0, 0, 0, 1, 1]\n",
    "#   In [2]: predictions = [0, 0, 1, 1, 1, 1]\n",
    "#   In [3]: accuracy, f_measure = compute_prediction_utility(labels, predictions)\n",
    "#   In [4]: accuracy\n",
    "#   Out[4]: 0.666666666667\n",
    "#   In [5]: f_measure\n",
    "#   Out[5]: 0.666666666667\n",
    "\n",
    "def compute_accuracy_f_measure(labels, predictions):\n",
    "    # Check inputs for errors.\n",
    "    if len(predictions) != len(labels):\n",
    "        raise Exception('Numbers of predictions and labels must be the same.')\n",
    "\n",
    "    n = len(labels)\n",
    "    for i in range(n):\n",
    "        if not labels[i] in (0, 1):\n",
    "            raise Exception('Labels must satisfy label == 0 or label == 1.')\n",
    "\n",
    "    for i in range(n):\n",
    "        if not predictions[i] in (0, 1):\n",
    "            raise Exception('Predictions must satisfy prediction == 0 or prediction == 1.')\n",
    "\n",
    "    # Populate contingency table.\n",
    "    tp = 0\n",
    "    fp = 0\n",
    "    fn = 0\n",
    "    tn = 0\n",
    "\n",
    "    for i in range(n):\n",
    "        if labels[i] and predictions[i]:\n",
    "            tp += 1\n",
    "        elif labels[i] and not predictions[i]:\n",
    "            fp += 1\n",
    "        elif not labels[i] and predictions[i]:\n",
    "            fn += 1\n",
    "        elif not labels[i] and not predictions[i]:\n",
    "            tn += 1\n",
    "\n",
    "    # Summarize contingency table.\n",
    "    if tp + fp + fn + tn:\n",
    "        accuracy = float(tp + tn) / float(tp + fp + fn + tn)\n",
    "    else:\n",
    "        accuracy = 1.0\n",
    "\n",
    "    if 2 * tp + fp + fn:\n",
    "        f_measure = float(2 * tp) / float(2 * tp + fp + fn)\n",
    "    else:\n",
    "        f_measure = 1.0\n",
    "\n",
    "    return accuracy, f_measure\n",
    "\n",
    "# The compute_prediction_utility function computes the total time-dependent\n",
    "# utility for a patient.\n",
    "#\n",
    "# Inputs:\n",
    "#   'labels' is a binary vector, where labels[i] == 0 if the patient is not\n",
    "#   labeled as septic at time i and labels[i] == 1 if the patient is labeled as\n",
    "#   septic at time i.\n",
    "#\n",
    "#   'predictions' is a binary vector, where predictions[i] == 0 if the patient\n",
    "#   is not predicted to be septic at time i and predictions[i] == 1 if the\n",
    "#   patient is predicted to be septic at time i.  Note that there must be a\n",
    "#   prediction for every label, i.e, len(labels) == len(predictions).\n",
    "#\n",
    "# Output:\n",
    "#   'utility' is a scalar that gives the total time-dependent utility of the\n",
    "#   classifier using its binarized predictions.\n",
    "#\n",
    "# Example:\n",
    "#   In [1]: labels = [0 0 0 0 1 1]\n",
    "#   In [2]: predictions = [0 0 1 1 1 1]\n",
    "#   In [3]: utility = compute_prediction_utility(labels, predictions)\n",
    "#   In [4]: utility\n",
    "#   Out[4]: 0.444444444444\n",
    "\n",
    "def compute_prediction_utility(labels, predictions, dt_early=-12, dt_optimal=-6, dt_late=3.0, max_u_tp=1, min_u_fn=-2, u_fp=-0.05, u_tn=0):\n",
    "    # Check inputs for errors.\n",
    "    if len(predictions) != len(labels):\n",
    "        raise Exception('Numbers of predictions and labels must be the same.')\n",
    "\n",
    "    n = len(labels)\n",
    "    for i in range(n):\n",
    "        if not labels[i] in (0, 1):\n",
    "            raise Exception('Labels must satisfy label == 0 or label == 1.')\n",
    "\n",
    "    for i in range(n):\n",
    "        if not predictions[i] in (0, 1):\n",
    "            raise Exception('Predictions must satisfy prediction == 0 or prediction == 1.')\n",
    "\n",
    "    if dt_early >= dt_optimal:\n",
    "        raise Exception('The earliest beneficial time for predictions must be before the optimal time.')\n",
    "\n",
    "    if dt_optimal >= dt_late:\n",
    "        raise Exception('The optimal time for predictions must be before the latest beneficial time.')\n",
    "\n",
    "    # Does the patient eventually have sepsis?\n",
    "    if any(labels):\n",
    "        is_septic = True\n",
    "        t_sepsis = min(i for i, label in enumerate(labels) if label) - dt_optimal\n",
    "    else:\n",
    "        is_septic = False\n",
    "        t_sepsis = float('inf')\n",
    "\n",
    "    # Define slopes and intercept points for affine utility functions of the\n",
    "    # form u = m * t + b.\n",
    "    m_1 = float(max_u_tp) / float(dt_optimal - dt_early)\n",
    "    b_1 = -m_1 * dt_early\n",
    "    m_2 = float(-max_u_tp) / float(dt_late - dt_optimal)\n",
    "    b_2 = -m_2 * dt_late\n",
    "    m_3 = float(min_u_fn) / float(dt_late - dt_optimal)\n",
    "    b_3 = -m_3 * dt_optimal\n",
    "\n",
    "    # Compare predicted and true conditions.\n",
    "    u = np.zeros(n)\n",
    "    for t in range(n):\n",
    "        if t <= t_sepsis + dt_late:\n",
    "            # TP\n",
    "            if is_septic and predictions[t]:\n",
    "                if t <= t_sepsis + dt_optimal:\n",
    "                    u[t] = max(m_1 * (t - t_sepsis) + b_1, u_fp)\n",
    "                elif t <= t_sepsis + dt_late:\n",
    "                    u[t] = m_2 * (t - t_sepsis) + b_2\n",
    "            # FN\n",
    "            elif is_septic and not predictions[t]:\n",
    "                if t <= t_sepsis + dt_optimal:\n",
    "                    u[t] = 0\n",
    "                elif t <= t_sepsis + dt_late:\n",
    "                    u[t] = m_3 * (t - t_sepsis) + b_3\n",
    "            # FP\n",
    "            elif not is_septic and predictions[t]:\n",
    "                u[t] = u_fp\n",
    "            # TN\n",
    "            elif not is_septic and not predictions[t]:\n",
    "                u[t] = u_tn\n",
    "\n",
    "    # Find total utility for patient.\n",
    "    return np.sum(u)\n",
    "\n",
    "def get_parser():\n",
    "    parser = argparse.ArgumentParser(description = 'Evaluate classifiers for cohort.')\n",
    "    parser.add_argument('-l', '--labels_directory',      type=str, required=True,  help='Labels directory')\n",
    "    parser.add_argument('-p', '--predictions_directory', type=str, required=True,  help='Predictions directory')\n",
    "    parser.add_argument('-o', '--output_file',           type=str, required=False, help='Output filename')\n",
    "    return parser\n",
    "\n",
    "def run(args):\n",
    "    auroc, auprc, accuracy, f_measure, utility = compute_scores_2019(args.labels_directory, args.predictions_directory)\n",
    "\n",
    "    output_string = 'AUROC|AUPRC|Accuracy|F-measure|Utility\\n{}|{}|{}|{}|{}'.format(auroc, auprc, accuracy, f_measure, utility)\n",
    "\n",
    "    if args.output_file:\n",
    "        with open(args.output_file, 'w') as f:\n",
    "            f.write(output_string)\n",
    "    else:\n",
    "        print(output_string)\n"
   ]
  },
  {
   "cell_type": "code",
   "execution_count": 79,
   "metadata": {},
   "outputs": [],
   "source": [
    "def code(file) :\n",
    "    data = pd.read_csv(file , sep='|')\n",
    "    data.drop(['EtCO2', 'BaseExcess','HCO3', 'FiO2', 'pH', 'PaCO2', 'SaO2', 'AST', 'BUN', 'Alkalinephos',\n",
    "    'Calcium', 'Chloride','Magnesium','Phosphate','O2Sat',\n",
    "    'Potassium', 'Bilirubin_total', 'TroponinI','Hct', 'Hgb','Fibrinogen', 'Platelets','HospAdmTime',\n",
    "    'Unit1', \"Unit2\"], axis = 1, inplace = True)\n",
    "    \n",
    "    if sum(pd.isna(data['Bilirubin_direct'])) !=0 : \n",
    "        data['Bilirubin_direct'] =  [2.32] * len(data['Bilirubin_direct'] )  \n",
    "\n",
    "    if sum(pd.isna(data['Lactate'])) !=0 : \n",
    "        data['Lactate'] =  [2.68] * len(data['Lactate'] )\n",
    "\n",
    "    if sum(pd.isna(data['PTT'])) !=0 : \n",
    "        data['PTT'] =  [42.57] * len(data['PTT'] )\n",
    "\n",
    "    if sum(pd.isna(data['Creatinine'])) !=0 : \n",
    "        data['Creatinine'] =  [1.68] * len(data['Creatinine'] )\n",
    "\n",
    "    if sum(pd.isna(data['WBC'])) !=0 : \n",
    "        data['WBC'] =  [12.36] * len(data['WBC'] )\n",
    "\n",
    "    if sum(pd.isna(data['Glucose'])) !=0 : \n",
    "        data['Glucose'] =  [138.45] * len(data['Glucose'] )\n",
    "\n",
    "    data.fillna(method='bfill', inplace=True)\n",
    "    data.fillna(method='ffill', inplace=True)\n",
    "    \n",
    "    Y_te = data.SepsisLabel\n",
    "    data.drop(['SepsisLabel'], axis = 1, inplace = True)\n",
    "    \n",
    "    col = data.columns\n",
    "    if sum(pd.isna(data['MAP'])) !=0 : \n",
    "        data['MAP'] =  [87] * len(data['MAP'] )\n",
    "    if sum(pd.isna(data['Temp'])) !=0 : \n",
    "        data['Temp'] =  [36.7] * len(data['Temp'] )\n",
    "    if sum(pd.isna(data['HR'])) !=0 : \n",
    "        data['HR'] =  [83.9] * len(data['HR'] )\n",
    "    if sum(pd.isna(data['Resp'])) !=0  :\n",
    "        data['Resp'] =  [19.5] * len(data['Resp'] )\n",
    "    if sum(pd.isna(data['DBP'])) !=0  :\n",
    "        data['DBP'] =  [63.7] * len(data['DBP'] )\n",
    "    if sum(pd.isna(data['SBP'])) !=0  :\n",
    "        data['SBP'] =  [123.9] * len(data['SBP'] )\n",
    "    \n",
    "   \n",
    "\n",
    "    test_x_predictions = loaded_model.predict(data)\n",
    "    mse = np.mean(np.power(data - test_x_predictions, 2), axis=1)\n",
    "    \n",
    "    data['RE'] = mse\n",
    "\n",
    "        \n",
    "    return(data, Y_te) \n"
   ]
  },
  {
   "cell_type": "code",
   "execution_count": 80,
   "metadata": {},
   "outputs": [],
   "source": [
    "file =\"all-files/p000229.psv\"  \n",
    "Y_te = code(file)[1]\n",
    "X_te = code(file)[0]"
   ]
  },
  {
   "cell_type": "code",
   "execution_count": 81,
   "metadata": {},
   "outputs": [
    {
     "data": {
      "text/plain": [
       "(27, 16)"
      ]
     },
     "execution_count": 81,
     "metadata": {},
     "output_type": "execute_result"
    }
   ],
   "source": [
    "X_te.shape"
   ]
  },
  {
   "cell_type": "code",
   "execution_count": null,
   "metadata": {},
   "outputs": [],
   "source": []
  },
  {
   "cell_type": "code",
   "execution_count": 86,
   "metadata": {},
   "outputs": [],
   "source": [
    "utility = []\n",
    "optimal = []\n",
    "acc=[]\n",
    "nopred=[]\n",
    "\n",
    "clf = clf1\n",
    "for file in total:\n",
    "    \n",
    "    Y_te = code('all-files/'+file)[1]\n",
    "    X_te = code('all-files/'+file)[0]\n",
    "    \n",
    "    \n",
    "   \n",
    "    probabilities = clf.predict(X_te)\n",
    "    \n",
    "\n",
    "    predictions = [] \n",
    "    for i in range (len(probabilities)):\n",
    "        if probabilities[i] < 0.5 :   # 1 0.35\n",
    "            predictions.append(0)\n",
    "        else :\n",
    "            predictions.append(1)\n",
    "\n",
    "\n",
    "\n",
    "    labels = Y_te\n",
    "   \n",
    "    fake = []\n",
    "    for i in labels :\n",
    "        fake.append(1-i)\n",
    "    \n",
    "        \n",
    "    n = len(labels)\n",
    "    \n",
    "    cohort_labels        = []\n",
    "    cohort_predictions   = []\n",
    "    cohort_probabilities = []\n",
    "\n",
    "    cohort_labels.append(labels)\n",
    "    cohort_predictions.append(predictions)\n",
    "    cohort_probabilities.append(probabilities)\n",
    "    labels        = np.concatenate(cohort_labels)\n",
    "    predictions   = np.concatenate(cohort_predictions)\n",
    "    probabilities = np.concatenate(cohort_probabilities)\n",
    "\n",
    "    auroc, auprc        = compute_auc(labels, probabilities)\n",
    "    accuracy, f_measure = compute_accuracy_f_measure(labels, predictions)\n",
    "    acc.append(accuracy)\n",
    "    utility.append(compute_prediction_utility(labels, predictions))\n",
    "    optimal.append(compute_prediction_utility(labels, labels))\n",
    "    nopred.append(compute_prediction_utility(labels, fake))"
   ]
  },
  {
   "cell_type": "code",
   "execution_count": 87,
   "metadata": {},
   "outputs": [
    {
     "data": {
      "text/plain": [
       "0.6079167327192111"
      ]
     },
     "execution_count": 87,
     "metadata": {},
     "output_type": "execute_result"
    }
   ],
   "source": [
    "(sum(utility) - sum(nopred) )/(sum(optimal) - sum(nopred))"
   ]
  },
  {
   "cell_type": "code",
   "execution_count": null,
   "metadata": {},
   "outputs": [],
   "source": []
  },
  {
   "cell_type": "code",
   "execution_count": null,
   "metadata": {},
   "outputs": [],
   "source": []
  },
  {
   "cell_type": "code",
   "execution_count": null,
   "metadata": {},
   "outputs": [],
   "source": []
  }
 ],
 "metadata": {
  "kernelspec": {
   "display_name": "Python 3",
   "language": "python",
   "name": "python3"
  },
  "language_info": {
   "codemirror_mode": {
    "name": "ipython",
    "version": 3
   },
   "file_extension": ".py",
   "mimetype": "text/x-python",
   "name": "python",
   "nbconvert_exporter": "python",
   "pygments_lexer": "ipython3",
   "version": "3.7.3"
  }
 },
 "nbformat": 4,
 "nbformat_minor": 2
}
