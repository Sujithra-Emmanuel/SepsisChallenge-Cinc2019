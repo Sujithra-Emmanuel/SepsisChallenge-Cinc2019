{
 "cells": [
  {
   "cell_type": "markdown",
   "metadata": {},
   "source": [
    "## Auto-encoders "
   ]
  },
  {
   "cell_type": "markdown",
   "metadata": {},
   "source": [
    "Author : Ines Krissaane "
   ]
  },
  {
   "cell_type": "code",
   "execution_count": 71,
   "metadata": {},
   "outputs": [],
   "source": [
    "import pandas as pd, numpy as np, matplotlib.pyplot as plt, seaborn as sns\n",
    "%matplotlib inline\n",
    "from sklearn.model_selection import train_test_split\n",
    "from tensorflow import keras\n",
    "from tensorflow.keras.layers import Input, Dense,  Conv2D, MaxPooling2D, UpSampling2D, Concatenate, Reshape, Lambda, Flatten, Activation, Dropout\n",
    "from tensorflow.keras import Model\n",
    "from tensorflow.keras import regularizers\n",
    "from tensorflow.keras import backend\n",
    "from tensorflow.keras.models import Sequential\n",
    "from sklearn.preprocessing import  StandardScaler, MinMaxScaler\n",
    "from tensorflow.keras.callbacks import ModelCheckpoint\n",
    "from tensorflow.keras.callbacks import TensorBoard\n",
    "from tensorflow.keras.models import load_model\n",
    "from sklearn.metrics import confusion_matrix, precision_recall_curve\n",
    "from sklearn.metrics import roc_auc_score,roc_curve,auc"
   ]
  },
  {
   "cell_type": "markdown",
   "metadata": {},
   "source": [
    "## Import data and pre-processing (cf 1.Pre-processing.ipynb and 2.RandomForest.ipynb)"
   ]
  },
  {
   "cell_type": "code",
   "execution_count": 49,
   "metadata": {},
   "outputs": [
    {
     "data": {
      "text/plain": [
       "(1552210, 44)"
      ]
     },
     "execution_count": 49,
     "metadata": {},
     "output_type": "execute_result"
    }
   ],
   "source": [
    "X_tr = pd.read_csv('sepsis_data_all.csv')\n",
    "X_tr.shape"
   ]
  },
  {
   "cell_type": "code",
   "execution_count": 50,
   "metadata": {},
   "outputs": [],
   "source": [
    "# Remove variables with more than 82% of na.\n",
    "X_tr.drop(['EtCO2', 'BaseExcess','HCO3', 'FiO2', 'pH', 'PaCO2', 'SaO2', 'AST', 'BUN', 'Alkalinephos',\n",
    "    'Calcium', 'Chloride', 'Creatinine', 'Bilirubin_direct' ,'Lactate','Magnesium','Phosphate',\n",
    "    'Potassium', 'Bilirubin_total', 'TroponinI','Hct', 'Hgb','PTT',  'WBC', 'Unnamed: 0','Fibrinogen', 'Platelets',\n",
    "    \"Glucose\", 'Unit1', \"Unit2\", \"HospAdmTime\",'X', 'DBP', 'SBP', 'O2Sat'], axis = 1, inplace = True)"
   ]
  },
  {
   "cell_type": "code",
   "execution_count": 51,
   "metadata": {},
   "outputs": [],
   "source": [
    "X_tr.fillna(method='bfill', inplace=True)\n",
    "X_tr.fillna(method='ffill', inplace=True)"
   ]
  },
  {
   "cell_type": "code",
   "execution_count": 46,
   "metadata": {},
   "outputs": [
    {
     "data": {
      "text/html": [
       "<div>\n",
       "<style scoped>\n",
       "    .dataframe tbody tr th:only-of-type {\n",
       "        vertical-align: middle;\n",
       "    }\n",
       "\n",
       "    .dataframe tbody tr th {\n",
       "        vertical-align: top;\n",
       "    }\n",
       "\n",
       "    .dataframe thead th {\n",
       "        text-align: right;\n",
       "    }\n",
       "</style>\n",
       "<table border=\"1\" class=\"dataframe\">\n",
       "  <thead>\n",
       "    <tr style=\"text-align: right;\">\n",
       "      <th></th>\n",
       "      <th>HR</th>\n",
       "      <th>Temp</th>\n",
       "      <th>MAP</th>\n",
       "      <th>Resp</th>\n",
       "      <th>Age</th>\n",
       "      <th>Gender</th>\n",
       "      <th>ICULOS</th>\n",
       "      <th>SepsisLabel</th>\n",
       "    </tr>\n",
       "  </thead>\n",
       "  <tbody>\n",
       "    <tr>\n",
       "      <th>0</th>\n",
       "      <td>97.0</td>\n",
       "      <td>36.11</td>\n",
       "      <td>75.33</td>\n",
       "      <td>19.0</td>\n",
       "      <td>83.14</td>\n",
       "      <td>0</td>\n",
       "      <td>1</td>\n",
       "      <td>0</td>\n",
       "    </tr>\n",
       "    <tr>\n",
       "      <th>1</th>\n",
       "      <td>97.0</td>\n",
       "      <td>36.11</td>\n",
       "      <td>75.33</td>\n",
       "      <td>19.0</td>\n",
       "      <td>83.14</td>\n",
       "      <td>0</td>\n",
       "      <td>2</td>\n",
       "      <td>0</td>\n",
       "    </tr>\n",
       "    <tr>\n",
       "      <th>2</th>\n",
       "      <td>89.0</td>\n",
       "      <td>36.11</td>\n",
       "      <td>86.00</td>\n",
       "      <td>22.0</td>\n",
       "      <td>83.14</td>\n",
       "      <td>0</td>\n",
       "      <td>3</td>\n",
       "      <td>0</td>\n",
       "    </tr>\n",
       "    <tr>\n",
       "      <th>3</th>\n",
       "      <td>90.0</td>\n",
       "      <td>36.11</td>\n",
       "      <td>91.33</td>\n",
       "      <td>30.0</td>\n",
       "      <td>83.14</td>\n",
       "      <td>0</td>\n",
       "      <td>4</td>\n",
       "      <td>0</td>\n",
       "    </tr>\n",
       "    <tr>\n",
       "      <th>4</th>\n",
       "      <td>103.0</td>\n",
       "      <td>36.11</td>\n",
       "      <td>91.33</td>\n",
       "      <td>24.5</td>\n",
       "      <td>83.14</td>\n",
       "      <td>0</td>\n",
       "      <td>5</td>\n",
       "      <td>0</td>\n",
       "    </tr>\n",
       "  </tbody>\n",
       "</table>\n",
       "</div>"
      ],
      "text/plain": [
       "      HR   Temp    MAP  Resp    Age  Gender  ICULOS  SepsisLabel\n",
       "0   97.0  36.11  75.33  19.0  83.14       0       1            0\n",
       "1   97.0  36.11  75.33  19.0  83.14       0       2            0\n",
       "2   89.0  36.11  86.00  22.0  83.14       0       3            0\n",
       "3   90.0  36.11  91.33  30.0  83.14       0       4            0\n",
       "4  103.0  36.11  91.33  24.5  83.14       0       5            0"
      ]
     },
     "execution_count": 46,
     "metadata": {},
     "output_type": "execute_result"
    }
   ],
   "source": [
    "X_tr.head()"
   ]
  },
  {
   "cell_type": "markdown",
   "metadata": {},
   "source": [
    "## Anomaly Detection using Autoencoders"
   ]
  },
  {
   "cell_type": "markdown",
   "metadata": {},
   "source": [
    "- https://arxiv.org/pdf/1811.05269.pdf\n",
    "- https://core.ac.uk/download/pdf/81634504.pdf"
   ]
  },
  {
   "cell_type": "code",
   "execution_count": 52,
   "metadata": {},
   "outputs": [],
   "source": [
    "normal = X_tr[X_tr['SepsisLabel'] == 0]\n",
    "anormal = X_tr[X_tr['SepsisLabel'] == 1]\n",
    "\n",
    "list_anormal = list(anormal.ID.unique() )\n",
    "list_normal = list(normal.ID.unique() )\n",
    "df = X_tr\n",
    "for i in (list_anormal):\n",
    "    df = df[df.ID != i]\n",
    "\n",
    "normal = df\n",
    "list_normal = list(normal.ID.unique())"
   ]
  },
  {
   "cell_type": "code",
   "execution_count": 53,
   "metadata": {},
   "outputs": [],
   "source": [
    "normal.drop(['ID'], axis = 1, inplace = True)"
   ]
  },
  {
   "cell_type": "code",
   "execution_count": 54,
   "metadata": {},
   "outputs": [
    {
     "data": {
      "text/plain": [
       "(1277881, 8)"
      ]
     },
     "execution_count": 54,
     "metadata": {},
     "output_type": "execute_result"
    }
   ],
   "source": [
    "normal.shape"
   ]
  },
  {
   "cell_type": "code",
   "execution_count": 57,
   "metadata": {},
   "outputs": [
    {
     "name": "stderr",
     "output_type": "stream",
     "text": [
      "/anaconda3/lib/python3.7/site-packages/pandas/core/frame.py:3940: SettingWithCopyWarning: \n",
      "A value is trying to be set on a copy of a slice from a DataFrame\n",
      "\n",
      "See the caveats in the documentation: http://pandas.pydata.org/pandas-docs/stable/indexing.html#indexing-view-versus-copy\n",
      "  errors=errors)\n",
      "/anaconda3/lib/python3.7/site-packages/ipykernel_launcher.py:7: FutureWarning: Sorting because non-concatenation axis is not aligned. A future version\n",
      "of pandas will change to not sort by default.\n",
      "\n",
      "To accept the future behavior, pass 'sort=False'.\n",
      "\n",
      "To retain the current behavior and silence the warning, pass 'sort=True'.\n",
      "\n",
      "  import sys\n"
     ]
    }
   ],
   "source": [
    "# train only on healthy patients \n",
    "RANDOM_SEED = 101\n",
    "X_train, X_test = train_test_split(normal, test_size=0.3, random_state = RANDOM_SEED)\n",
    "y_train = X_train.SepsisLabel\n",
    "X_train.drop(['SepsisLabel'], axis=1,  inplace = True)\n",
    "y_test = pd.concat([X_test.SepsisLabel,anormal.SepsisLabel])\n",
    "X_test = pd.concat([X_test, anormal], axis=0)\n",
    "X_test.drop(['SepsisLabel', 'ID'], axis=1,  inplace = True)"
   ]
  },
  {
   "cell_type": "code",
   "execution_count": 58,
   "metadata": {},
   "outputs": [
    {
     "name": "stdout",
     "output_type": "stream",
     "text": [
      "Training data size   : (894516, 7)\n",
      "Validation data size : (411281, 7)\n"
     ]
    }
   ],
   "source": [
    "X_train = X_train.values\n",
    "X_test  = X_test.values\n",
    "print('Training data size   :', X_train.shape)\n",
    "print('Validation data size :', X_test.shape)\n",
    "      "
   ]
  },
  {
   "cell_type": "code",
   "execution_count": 59,
   "metadata": {},
   "outputs": [],
   "source": [
    "scaler = MinMaxScaler()\n",
    "X_train_scaled = scaler.fit_transform(X_train)\n",
    "X_test_scaled  = scaler.transform(X_test)"
   ]
  },
  {
   "cell_type": "code",
   "execution_count": 60,
   "metadata": {},
   "outputs": [
    {
     "name": "stderr",
     "output_type": "stream",
     "text": [
      "WARNING: Logging before flag parsing goes to stderr.\n",
      "W0831 13:25:42.490810 4756096448 deprecation.py:506] From /anaconda3/lib/python3.7/site-packages/tensorflow/python/ops/init_ops.py:1251: calling VarianceScaling.__init__ (from tensorflow.python.ops.init_ops) with dtype is deprecated and will be removed in a future version.\n",
      "Instructions for updating:\n",
      "Call initializer instance with the dtype argument instead of passing it to the constructor\n"
     ]
    },
    {
     "name": "stdout",
     "output_type": "stream",
     "text": [
      "Model: \"model\"\n",
      "_________________________________________________________________\n",
      "Layer (type)                 Output Shape              Param #   \n",
      "=================================================================\n",
      "input_1 (InputLayer)         [(None, 7)]               0         \n",
      "_________________________________________________________________\n",
      "dense (Dense)                (None, 56)                448       \n",
      "_________________________________________________________________\n",
      "dense_1 (Dense)              (None, 392)               22344     \n",
      "_________________________________________________________________\n",
      "dense_2 (Dense)              (None, 56)                22008     \n",
      "_________________________________________________________________\n",
      "dense_3 (Dense)              (None, 7)                 399       \n",
      "=================================================================\n",
      "Total params: 45,199\n",
      "Trainable params: 45,199\n",
      "Non-trainable params: 0\n",
      "_________________________________________________________________\n"
     ]
    }
   ],
   "source": [
    "# Our NN\n",
    "input_dim = X_train.shape[1]\n",
    "encoding_dim = 56\n",
    "\n",
    "input_layer = Input(shape=(input_dim, ))\n",
    "encoder = Dense(encoding_dim, activation=\"softmax\")(input_layer)\n",
    "encoder = Dense(int(encoding_dim * 7), activation=\"softmax\")(encoder)\n",
    "#encoder = Dense(int(2), activation=\"tanh\")(encoder)\n",
    "#decoder = Dense(int(encoding_dim/ 2), activation='tanh')(encoder)\n",
    "decoder = Dense(int(encoding_dim), activation='softmax')(encoder)\n",
    "decoder = Dense(input_dim, activation='softmax')(decoder)\n",
    "autoencoder = Model(inputs=input_layer, outputs=decoder)\n",
    "autoencoder.summary()"
   ]
  },
  {
   "cell_type": "code",
   "execution_count": 63,
   "metadata": {},
   "outputs": [
    {
     "name": "stdout",
     "output_type": "stream",
     "text": [
      "Train on 894516 samples, validate on 411281 samples\n",
      "Epoch 1/100\n",
      "894516/894516 [==============================] - 6s 6us/sample - loss: 3011.5729 - acc: 0.3778 - val_loss: 3072.7074 - val_acc: 0.0958\n",
      "Epoch 2/100\n",
      "894516/894516 [==============================] - 6s 7us/sample - loss: 3007.0079 - acc: 0.4881 - val_loss: 3073.0159 - val_acc: 0.0958\n",
      "Epoch 3/100\n",
      "894516/894516 [==============================] - 6s 7us/sample - loss: 3006.5396 - acc: 0.4881 - val_loss: 3074.1697 - val_acc: 0.0958\n",
      "Epoch 4/100\n",
      "894516/894516 [==============================] - 7s 7us/sample - loss: 3006.4771 - acc: 0.4881 - val_loss: 3074.6297 - val_acc: 0.0958\n",
      "Epoch 5/100\n",
      "894516/894516 [==============================] - 7s 7us/sample - loss: 3006.4571 - acc: 0.4881 - val_loss: 3074.8512 - val_acc: 0.0958\n",
      "Epoch 6/100\n",
      "894516/894516 [==============================] - 6s 7us/sample - loss: 3006.4482 - acc: 0.4881 - val_loss: 3074.9732 - val_acc: 0.0958\n",
      "Epoch 7/100\n",
      "894516/894516 [==============================] - 7s 7us/sample - loss: 3006.4435 - acc: 0.4881 - val_loss: 3075.0470 - val_acc: 0.0958\n",
      "Epoch 8/100\n",
      "894516/894516 [==============================] - 6s 7us/sample - loss: 3006.4408 - acc: 0.4881 - val_loss: 3075.0952 - val_acc: 0.0958\n",
      "Epoch 9/100\n",
      "894516/894516 [==============================] - 7s 8us/sample - loss: 3006.4392 - acc: 0.4881 - val_loss: 3075.1268 - val_acc: 0.0958\n",
      "Epoch 10/100\n",
      "894516/894516 [==============================] - 6s 7us/sample - loss: 3006.4382 - acc: 0.4881 - val_loss: 3075.1478 - val_acc: 0.0958\n",
      "Epoch 11/100\n",
      "894516/894516 [==============================] - 6s 7us/sample - loss: 3006.4376 - acc: 0.4881 - val_loss: 3075.1625 - val_acc: 0.0958\n",
      "Epoch 12/100\n",
      "894516/894516 [==============================] - 6s 7us/sample - loss: 3006.4371 - acc: 0.4881 - val_loss: 3075.1724 - val_acc: 0.0958\n",
      "Epoch 13/100\n",
      "894516/894516 [==============================] - 7s 8us/sample - loss: 3006.4369 - acc: 0.4881 - val_loss: 3075.1792 - val_acc: 0.0958\n",
      "Epoch 14/100\n",
      "894516/894516 [==============================] - 7s 7us/sample - loss: 3006.4367 - acc: 0.4881 - val_loss: 3075.1837 - val_acc: 0.0958\n",
      "Epoch 15/100\n",
      "894516/894516 [==============================] - 7s 7us/sample - loss: 3006.4366 - acc: 0.4881 - val_loss: 3075.1872 - val_acc: 0.0958\n",
      "Epoch 16/100\n",
      "894516/894516 [==============================] - 7s 7us/sample - loss: 3006.4365 - acc: 0.4881 - val_loss: 3075.1895 - val_acc: 0.0958\n",
      "Epoch 17/100\n",
      "894516/894516 [==============================] - 6s 7us/sample - loss: 3006.4364 - acc: 0.4881 - val_loss: 3075.1910 - val_acc: 0.0958\n",
      "Epoch 18/100\n",
      "894516/894516 [==============================] - 6s 7us/sample - loss: 3006.4364 - acc: 0.4881 - val_loss: 3075.1919 - val_acc: 0.0958\n",
      "Epoch 19/100\n",
      "894516/894516 [==============================] - 6s 7us/sample - loss: 3006.4364 - acc: 0.4881 - val_loss: 3075.1927 - val_acc: 0.0958\n",
      "Epoch 20/100\n",
      "894516/894516 [==============================] - 6s 7us/sample - loss: 3006.4363 - acc: 0.4881 - val_loss: 3075.1932 - val_acc: 0.0958\n",
      "Epoch 21/100\n",
      "894516/894516 [==============================] - 6s 7us/sample - loss: 3006.4363 - acc: 0.4881 - val_loss: 3075.1936 - val_acc: 0.0958\n",
      "Epoch 22/100\n",
      "894516/894516 [==============================] - 6s 7us/sample - loss: 3006.4363 - acc: 0.4881 - val_loss: 3075.1938 - val_acc: 0.0958\n",
      "Epoch 23/100\n",
      "894516/894516 [==============================] - 6s 7us/sample - loss: 3006.4363 - acc: 0.4881 - val_loss: 3075.1939 - val_acc: 0.0958\n",
      "Epoch 24/100\n",
      "894516/894516 [==============================] - 6s 7us/sample - loss: 3006.4363 - acc: 0.4881 - val_loss: 3075.1940 - val_acc: 0.0958\n",
      "Epoch 25/100\n",
      "894516/894516 [==============================] - 6s 7us/sample - loss: 3006.4363 - acc: 0.4881 - val_loss: 3075.1941 - val_acc: 0.0958\n",
      "Epoch 26/100\n",
      "894516/894516 [==============================] - 6s 7us/sample - loss: 3006.4363 - acc: 0.4881 - val_loss: 3075.1942 - val_acc: 0.0958\n",
      "Epoch 27/100\n",
      "894516/894516 [==============================] - 6s 7us/sample - loss: 3006.4363 - acc: 0.4881 - val_loss: 3075.1942 - val_acc: 0.0958\n",
      "Epoch 28/100\n",
      "894516/894516 [==============================] - 6s 7us/sample - loss: 3006.4363 - acc: 0.4881 - val_loss: 3075.1942 - val_acc: 0.0958\n",
      "Epoch 29/100\n",
      "894516/894516 [==============================] - 6s 7us/sample - loss: 3006.4363 - acc: 0.4881 - val_loss: 3075.1942 - val_acc: 0.0958\n",
      "Epoch 30/100\n",
      "894516/894516 [==============================] - 6s 7us/sample - loss: 3006.4363 - acc: 0.4881 - val_loss: 3075.1942 - val_acc: 0.0958\n",
      "Epoch 31/100\n",
      "894516/894516 [==============================] - 6s 7us/sample - loss: 3006.4363 - acc: 0.4881 - val_loss: 3075.1942 - val_acc: 0.0958\n",
      "Epoch 32/100\n",
      "894516/894516 [==============================] - 6s 7us/sample - loss: 3006.4363 - acc: 0.4881 - val_loss: 3075.1942 - val_acc: 0.0958\n",
      "Epoch 33/100\n",
      "894516/894516 [==============================] - 6s 7us/sample - loss: 3006.4363 - acc: 0.4881 - val_loss: 3075.1942 - val_acc: 0.0958\n",
      "Epoch 34/100\n",
      "894516/894516 [==============================] - 6s 7us/sample - loss: 3006.4362 - acc: 0.4881 - val_loss: 3075.1943 - val_acc: 0.0958\n",
      "Epoch 35/100\n",
      "894516/894516 [==============================] - 6s 7us/sample - loss: 3006.4363 - acc: 0.4881 - val_loss: 3075.1943 - val_acc: 0.0958\n",
      "Epoch 36/100\n",
      "894516/894516 [==============================] - 7s 7us/sample - loss: 3006.4363 - acc: 0.4881 - val_loss: 3075.1943 - val_acc: 0.0958\n",
      "Epoch 37/100\n",
      "894516/894516 [==============================] - 6s 7us/sample - loss: 3006.4363 - acc: 0.4881 - val_loss: 3075.1943 - val_acc: 0.0958\n",
      "Epoch 38/100\n",
      "894516/894516 [==============================] - 6s 7us/sample - loss: 3006.4363 - acc: 0.4881 - val_loss: 3075.1943 - val_acc: 0.0958\n",
      "Epoch 39/100\n",
      "894516/894516 [==============================] - 6s 7us/sample - loss: 3006.4363 - acc: 0.4881 - val_loss: 3075.1943 - val_acc: 0.0958\n",
      "Epoch 40/100\n",
      "894516/894516 [==============================] - 6s 7us/sample - loss: 3006.4363 - acc: 0.4881 - val_loss: 3075.1943 - val_acc: 0.0958\n",
      "Epoch 41/100\n",
      "894516/894516 [==============================] - 6s 7us/sample - loss: 3006.4363 - acc: 0.4881 - val_loss: 3075.1943 - val_acc: 0.0958\n",
      "Epoch 42/100\n",
      "894516/894516 [==============================] - 6s 7us/sample - loss: 3006.4363 - acc: 0.4881 - val_loss: 3075.1943 - val_acc: 0.0958\n",
      "Epoch 43/100\n",
      "894516/894516 [==============================] - 6s 7us/sample - loss: 3006.4363 - acc: 0.4881 - val_loss: 3075.1943 - val_acc: 0.0958\n",
      "Epoch 44/100\n",
      "894516/894516 [==============================] - 6s 7us/sample - loss: 3006.4363 - acc: 0.4881 - val_loss: 3075.1943 - val_acc: 0.0958\n",
      "Epoch 45/100\n",
      "894516/894516 [==============================] - 6s 7us/sample - loss: 3006.4363 - acc: 0.4881 - val_loss: 3075.1943 - val_acc: 0.0958\n",
      "Epoch 46/100\n",
      "894516/894516 [==============================] - 6s 7us/sample - loss: 3006.4363 - acc: 0.4881 - val_loss: 3075.1943 - val_acc: 0.0958\n",
      "Epoch 47/100\n",
      "894516/894516 [==============================] - 6s 7us/sample - loss: 3006.4363 - acc: 0.4881 - val_loss: 3075.1943 - val_acc: 0.0958\n",
      "Epoch 48/100\n",
      "894516/894516 [==============================] - 6s 7us/sample - loss: 3006.4363 - acc: 0.4881 - val_loss: 3075.1943 - val_acc: 0.0958\n",
      "Epoch 49/100\n",
      "894516/894516 [==============================] - 6s 7us/sample - loss: 3006.4363 - acc: 0.4881 - val_loss: 3075.1943 - val_acc: 0.0958\n",
      "Epoch 50/100\n",
      "894516/894516 [==============================] - 6s 7us/sample - loss: 3006.4363 - acc: 0.4881 - val_loss: 3075.1943 - val_acc: 0.0958\n",
      "Epoch 51/100\n",
      "894516/894516 [==============================] - 6s 7us/sample - loss: 3006.4363 - acc: 0.4881 - val_loss: 3075.1943 - val_acc: 0.0958\n",
      "Epoch 52/100\n",
      "894516/894516 [==============================] - 6s 7us/sample - loss: 3006.4363 - acc: 0.4881 - val_loss: 3075.1943 - val_acc: 0.0958\n",
      "Epoch 53/100\n",
      "894516/894516 [==============================] - 6s 7us/sample - loss: 3006.4363 - acc: 0.4881 - val_loss: 3075.1943 - val_acc: 0.0958\n",
      "Epoch 54/100\n",
      "894516/894516 [==============================] - 6s 7us/sample - loss: 3006.4363 - acc: 0.4881 - val_loss: 3075.1943 - val_acc: 0.0958\n",
      "Epoch 55/100\n",
      "894516/894516 [==============================] - 6s 7us/sample - loss: 3006.4363 - acc: 0.4881 - val_loss: 3075.1943 - val_acc: 0.0958\n",
      "Epoch 56/100\n"
     ]
    },
    {
     "name": "stdout",
     "output_type": "stream",
     "text": [
      "894516/894516 [==============================] - 6s 7us/sample - loss: 3006.4363 - acc: 0.4881 - val_loss: 3075.1943 - val_acc: 0.0958\n",
      "Epoch 57/100\n",
      "894516/894516 [==============================] - 6s 7us/sample - loss: 3006.4363 - acc: 0.4881 - val_loss: 3075.1943 - val_acc: 0.0958\n",
      "Epoch 58/100\n",
      "894516/894516 [==============================] - 6s 7us/sample - loss: 3006.4363 - acc: 0.4881 - val_loss: 3075.1943 - val_acc: 0.0958\n",
      "Epoch 59/100\n",
      "894516/894516 [==============================] - 6s 7us/sample - loss: 3006.4363 - acc: 0.4881 - val_loss: 3075.1943 - val_acc: 0.0958\n",
      "Epoch 60/100\n",
      "894516/894516 [==============================] - 7s 7us/sample - loss: 3006.4363 - acc: 0.4881 - val_loss: 3075.1943 - val_acc: 0.0958\n",
      "Epoch 61/100\n",
      "894516/894516 [==============================] - 7s 8us/sample - loss: 3006.4363 - acc: 0.4881 - val_loss: 3075.1943 - val_acc: 0.0958\n",
      "Epoch 62/100\n",
      "894516/894516 [==============================] - 7s 7us/sample - loss: 3006.4363 - acc: 0.4881 - val_loss: 3075.1943 - val_acc: 0.0958\n",
      "Epoch 63/100\n",
      "894516/894516 [==============================] - 7s 8us/sample - loss: 3006.4363 - acc: 0.4881 - val_loss: 3075.1943 - val_acc: 0.0958\n",
      "Epoch 64/100\n",
      "894516/894516 [==============================] - 7s 7us/sample - loss: 3006.4363 - acc: 0.4881 - val_loss: 3075.1943 - val_acc: 0.0958\n",
      "Epoch 65/100\n",
      "894516/894516 [==============================] - 6s 7us/sample - loss: 3006.4363 - acc: 0.4881 - val_loss: 3075.1943 - val_acc: 0.0958\n",
      "Epoch 66/100\n",
      "894516/894516 [==============================] - 6s 7us/sample - loss: 3006.4363 - acc: 0.4881 - val_loss: 3075.1943 - val_acc: 0.0958\n",
      "Epoch 67/100\n",
      "894516/894516 [==============================] - 6s 7us/sample - loss: 3006.4363 - acc: 0.4881 - val_loss: 3075.1943 - val_acc: 0.0958\n",
      "Epoch 68/100\n",
      "894516/894516 [==============================] - 7s 8us/sample - loss: 3006.4363 - acc: 0.4881 - val_loss: 3075.1943 - val_acc: 0.0958\n",
      "Epoch 69/100\n",
      "894516/894516 [==============================] - 7s 7us/sample - loss: 3006.4363 - acc: 0.4881 - val_loss: 3075.1943 - val_acc: 0.0958\n",
      "Epoch 70/100\n",
      "894516/894516 [==============================] - 6s 7us/sample - loss: 3006.4363 - acc: 0.4881 - val_loss: 3075.1943 - val_acc: 0.0958\n",
      "Epoch 71/100\n",
      "894516/894516 [==============================] - 6s 7us/sample - loss: 3006.4363 - acc: 0.4881 - val_loss: 3075.1943 - val_acc: 0.0958\n",
      "Epoch 72/100\n",
      "894516/894516 [==============================] - 6s 7us/sample - loss: 3006.4363 - acc: 0.4881 - val_loss: 3075.1943 - val_acc: 0.0958\n",
      "Epoch 73/100\n",
      "894516/894516 [==============================] - 6s 7us/sample - loss: 3006.4363 - acc: 0.4881 - val_loss: 3075.1943 - val_acc: 0.0958\n",
      "Epoch 74/100\n",
      "894516/894516 [==============================] - 6s 7us/sample - loss: 3006.4363 - acc: 0.4881 - val_loss: 3075.1942 - val_acc: 0.0958\n",
      "Epoch 75/100\n",
      "894516/894516 [==============================] - 6s 7us/sample - loss: 3006.4363 - acc: 0.4881 - val_loss: 3075.1943 - val_acc: 0.0958\n",
      "Epoch 76/100\n",
      "894516/894516 [==============================] - 7s 8us/sample - loss: 3006.4363 - acc: 0.4881 - val_loss: 3075.1943 - val_acc: 0.0958\n",
      "Epoch 77/100\n",
      "894516/894516 [==============================] - 6s 7us/sample - loss: 3006.4363 - acc: 0.4881 - val_loss: 3075.1943 - val_acc: 0.0958\n",
      "Epoch 78/100\n",
      "894516/894516 [==============================] - 6s 7us/sample - loss: 3006.4363 - acc: 0.4881 - val_loss: 3075.1943 - val_acc: 0.0958\n",
      "Epoch 79/100\n",
      "894516/894516 [==============================] - 6s 7us/sample - loss: 3006.4363 - acc: 0.4881 - val_loss: 3075.1943 - val_acc: 0.0958\n",
      "Epoch 80/100\n",
      "894516/894516 [==============================] - 6s 7us/sample - loss: 3006.4363 - acc: 0.4881 - val_loss: 3075.1943 - val_acc: 0.0958\n",
      "Epoch 81/100\n",
      "894516/894516 [==============================] - 7s 7us/sample - loss: 3006.4363 - acc: 0.4881 - val_loss: 3075.1943 - val_acc: 0.0958\n",
      "Epoch 82/100\n",
      "894516/894516 [==============================] - 6s 7us/sample - loss: 3006.4363 - acc: 0.4881 - val_loss: 3075.1943 - val_acc: 0.0958\n",
      "Epoch 83/100\n",
      "894516/894516 [==============================] - 7s 7us/sample - loss: 3006.4363 - acc: 0.4881 - val_loss: 3075.1943 - val_acc: 0.0958\n",
      "Epoch 84/100\n",
      "894516/894516 [==============================] - 6s 7us/sample - loss: 3006.4363 - acc: 0.4881 - val_loss: 3075.1943 - val_acc: 0.0958\n",
      "Epoch 85/100\n",
      "894516/894516 [==============================] - 6s 7us/sample - loss: 3006.4363 - acc: 0.4881 - val_loss: 3075.1943 - val_acc: 0.0958\n",
      "Epoch 86/100\n",
      "894516/894516 [==============================] - 7s 7us/sample - loss: 3006.4363 - acc: 0.4881 - val_loss: 3075.1943 - val_acc: 0.0958\n",
      "Epoch 87/100\n",
      "894516/894516 [==============================] - 6s 7us/sample - loss: 3006.4363 - acc: 0.4881 - val_loss: 3075.1943 - val_acc: 0.0958\n",
      "Epoch 88/100\n",
      "894516/894516 [==============================] - 6s 7us/sample - loss: 3006.4363 - acc: 0.4881 - val_loss: 3075.1943 - val_acc: 0.0958\n",
      "Epoch 89/100\n",
      "894516/894516 [==============================] - 6s 7us/sample - loss: 3006.4363 - acc: 0.4881 - val_loss: 3075.1943 - val_acc: 0.0958\n",
      "Epoch 90/100\n",
      "894516/894516 [==============================] - 6s 7us/sample - loss: 3006.4363 - acc: 0.4881 - val_loss: 3075.1943 - val_acc: 0.0958\n",
      "Epoch 91/100\n",
      "894516/894516 [==============================] - 7s 7us/sample - loss: 3006.4363 - acc: 0.4881 - val_loss: 3075.1943 - val_acc: 0.0958\n",
      "Epoch 92/100\n",
      "894516/894516 [==============================] - 7s 7us/sample - loss: 3006.4363 - acc: 0.4881 - val_loss: 3075.1943 - val_acc: 0.0958\n",
      "Epoch 93/100\n",
      "894516/894516 [==============================] - 7s 7us/sample - loss: 3006.4363 - acc: 0.4881 - val_loss: 3075.1943 - val_acc: 0.0958\n",
      "Epoch 94/100\n",
      "894516/894516 [==============================] - 6s 7us/sample - loss: 3006.4363 - acc: 0.4881 - val_loss: 3075.1943 - val_acc: 0.0958\n",
      "Epoch 95/100\n",
      "894516/894516 [==============================] - 7s 7us/sample - loss: 3006.4363 - acc: 0.4881 - val_loss: 3075.1943 - val_acc: 0.0958\n",
      "Epoch 96/100\n",
      "894516/894516 [==============================] - 6s 7us/sample - loss: 3006.4363 - acc: 0.4881 - val_loss: 3075.1943 - val_acc: 0.0958\n",
      "Epoch 97/100\n",
      "894516/894516 [==============================] - 6s 7us/sample - loss: 3006.4363 - acc: 0.4881 - val_loss: 3075.1943 - val_acc: 0.0958\n",
      "Epoch 98/100\n",
      "894516/894516 [==============================] - 7s 8us/sample - loss: 3006.4363 - acc: 0.4881 - val_loss: 3075.1943 - val_acc: 0.0958\n",
      "Epoch 99/100\n",
      "894516/894516 [==============================] - 7s 8us/sample - loss: 3006.4363 - acc: 0.4881 - val_loss: 3075.1943 - val_acc: 0.0958\n",
      "Epoch 100/100\n",
      "894516/894516 [==============================] - 6s 7us/sample - loss: 3006.4363 - acc: 0.4881 - val_loss: 3075.1943 - val_acc: 0.0958\n"
     ]
    }
   ],
   "source": [
    "# train it\n",
    "nb_epoch = 100\n",
    "batch_size = 1000\n",
    "autoencoder.compile(metrics=['accuracy'],\n",
    "                    loss='mean_squared_error',\n",
    "                    optimizer='adam')\n",
    "\n",
    "cp = ModelCheckpoint(filepath=\"autoencoder_fraud.h5\",\n",
    "                               save_best_only=True,\n",
    "                               verbose=0)\n",
    "\n",
    "tb = TensorBoard(log_dir='./logs',\n",
    "                histogram_freq=0,\n",
    "                write_graph=True,\n",
    "                write_images=True)\n",
    "\n",
    "history = autoencoder.fit(X_train, X_train,\n",
    "                    epochs=nb_epoch,\n",
    "                    batch_size=batch_size,\n",
    "                    shuffle=True,\n",
    "                    validation_data=(X_test, X_test),\n",
    "                    verbose=1,\n",
    "                    callbacks=[cp, tb]).history"
   ]
  },
  {
   "cell_type": "code",
   "execution_count": 80,
   "metadata": {},
   "outputs": [
    {
     "name": "stderr",
     "output_type": "stream",
     "text": [
      "W0831 13:42:56.267539 4756096448 deprecation.py:506] From /anaconda3/lib/python3.7/site-packages/tensorflow/python/ops/init_ops.py:97: calling GlorotUniform.__init__ (from tensorflow.python.ops.init_ops) with dtype is deprecated and will be removed in a future version.\n",
      "Instructions for updating:\n",
      "Call initializer instance with the dtype argument instead of passing it to the constructor\n",
      "W0831 13:42:56.268622 4756096448 deprecation.py:506] From /anaconda3/lib/python3.7/site-packages/tensorflow/python/ops/init_ops.py:97: calling Zeros.__init__ (from tensorflow.python.ops.init_ops) with dtype is deprecated and will be removed in a future version.\n",
      "Instructions for updating:\n",
      "Call initializer instance with the dtype argument instead of passing it to the constructor\n"
     ]
    }
   ],
   "source": [
    "# save model \n",
    "autoencoder = load_model('autoencoder_fraud.h5')"
   ]
  },
  {
   "cell_type": "markdown",
   "metadata": {},
   "source": [
    "### Model results"
   ]
  },
  {
   "cell_type": "code",
   "execution_count": 69,
   "metadata": {},
   "outputs": [
    {
     "data": {
      "text/html": [
       "<div>\n",
       "<style scoped>\n",
       "    .dataframe tbody tr th:only-of-type {\n",
       "        vertical-align: middle;\n",
       "    }\n",
       "\n",
       "    .dataframe tbody tr th {\n",
       "        vertical-align: top;\n",
       "    }\n",
       "\n",
       "    .dataframe thead th {\n",
       "        text-align: right;\n",
       "    }\n",
       "</style>\n",
       "<table border=\"1\" class=\"dataframe\">\n",
       "  <thead>\n",
       "    <tr style=\"text-align: right;\">\n",
       "      <th></th>\n",
       "      <th>Reconstruction_error</th>\n",
       "      <th>True_class</th>\n",
       "    </tr>\n",
       "  </thead>\n",
       "  <tbody>\n",
       "    <tr>\n",
       "      <th>count</th>\n",
       "      <td>411281.000000</td>\n",
       "      <td>411281.000000</td>\n",
       "    </tr>\n",
       "    <tr>\n",
       "      <th>mean</th>\n",
       "      <td>3075.194239</td>\n",
       "      <td>0.067876</td>\n",
       "    </tr>\n",
       "    <tr>\n",
       "      <th>std</th>\n",
       "      <td>994.673420</td>\n",
       "      <td>0.251533</td>\n",
       "    </tr>\n",
       "    <tr>\n",
       "      <th>min</th>\n",
       "      <td>901.669998</td>\n",
       "      <td>0.000000</td>\n",
       "    </tr>\n",
       "    <tr>\n",
       "      <th>25%</th>\n",
       "      <td>2546.168969</td>\n",
       "      <td>0.000000</td>\n",
       "    </tr>\n",
       "    <tr>\n",
       "      <th>50%</th>\n",
       "      <td>2930.857142</td>\n",
       "      <td>0.000000</td>\n",
       "    </tr>\n",
       "    <tr>\n",
       "      <th>75%</th>\n",
       "      <td>3394.399988</td>\n",
       "      <td>0.000000</td>\n",
       "    </tr>\n",
       "    <tr>\n",
       "      <th>max</th>\n",
       "      <td>20535.238201</td>\n",
       "      <td>1.000000</td>\n",
       "    </tr>\n",
       "  </tbody>\n",
       "</table>\n",
       "</div>"
      ],
      "text/plain": [
       "       Reconstruction_error     True_class\n",
       "count         411281.000000  411281.000000\n",
       "mean            3075.194239       0.067876\n",
       "std              994.673420       0.251533\n",
       "min              901.669998       0.000000\n",
       "25%             2546.168969       0.000000\n",
       "50%             2930.857142       0.000000\n",
       "75%             3394.399988       0.000000\n",
       "max            20535.238201       1.000000"
      ]
     },
     "execution_count": 69,
     "metadata": {},
     "output_type": "execute_result"
    }
   ],
   "source": [
    "test_x_predictions = autoencoder.predict(X_test)\n",
    "mse = np.mean(np.power(X_test- test_x_predictions, 2), axis=1)\n",
    "error_df = pd.DataFrame({'Reconstruction_error': mse,\n",
    "                        'True_class': y_test})\n",
    "error_df.describe()"
   ]
  },
  {
   "cell_type": "code",
   "execution_count": 72,
   "metadata": {},
   "outputs": [
    {
     "data": {
      "image/png": "[encoded data removed]",
      "text/plain": [
       "<Figure size 432x288 with 1 Axes>"
      ]
     },
     "metadata": {
      "needs_background": "light"
     },
     "output_type": "display_data"
    }
   ],
   "source": [
    "false_pos_rate, true_pos_rate, thresholds = roc_curve(error_df.True_class, error_df.Reconstruction_error)\n",
    "roc_auc = auc(false_pos_rate, true_pos_rate,)\n",
    "\n",
    "plt.plot(false_pos_rate, true_pos_rate, linewidth=5, label='AUC = %0.3f'% roc_auc)\n",
    "plt.plot([0,1],[0,1], linewidth=5)\n",
    "\n",
    "plt.xlim([-0.01, 1])\n",
    "plt.ylim([0, 1.01])\n",
    "plt.legend(loc='lower right')\n",
    "plt.title('Receiver operating characteristic curve (ROC)')\n",
    "plt.ylabel('True Positive Rate')\n",
    "plt.xlabel('False Positive Rate')\n",
    "plt.show()"
   ]
  },
  {
   "cell_type": "code",
   "execution_count": 73,
   "metadata": {},
   "outputs": [
    {
     "data": {
      "image/png": "[encoded data removed]",
      "text/plain": [
       "<Figure size 432x288 with 1 Axes>"
      ]
     },
     "metadata": {
      "needs_background": "light"
     },
     "output_type": "display_data"
    }
   ],
   "source": [
    "precision_rt, recall_rt, threshold_rt = precision_recall_curve(error_df.True_class, error_df.Reconstruction_error)\n",
    "plt.plot(recall_rt, precision_rt, linewidth=5, label='Precision-Recall curve')\n",
    "plt.title('Recall vs Precision')\n",
    "plt.xlabel('Recall')\n",
    "plt.ylabel('Precision')\n",
    "plt.show()"
   ]
  },
  {
   "cell_type": "code",
   "execution_count": 85,
   "metadata": {},
   "outputs": [
    {
     "data": {
      "image/png": "[encoded data removed]",
      "text/plain": [
       "<Figure size 432x288 with 1 Axes>"
      ]
     },
     "metadata": {
      "needs_background": "light"
     },
     "output_type": "display_data"
    }
   ],
   "source": [
    "plt.plot( precision_rt[1:], recall_rt[1:],label=\"Precision\",linewidth=5)\n",
    "\n",
    "plt.title('Precision and recall for different threshold values')\n",
    "plt.xlabel('Threshold')\n",
    "plt.ylabel('Precision/Recall')\n",
    "plt.legend()\n",
    "plt.show()"
   ]
  },
  {
   "cell_type": "code",
   "execution_count": null,
   "metadata": {},
   "outputs": [],
   "source": []
  },
  {
   "cell_type": "markdown",
   "metadata": {},
   "source": [
    "## Test for patients with sepsis"
   ]
  },
  {
   "cell_type": "code",
   "execution_count": 75,
   "metadata": {},
   "outputs": [
    {
     "data": {
      "text/plain": [
       "(999, 2)"
      ]
     },
     "execution_count": 75,
     "metadata": {},
     "output_type": "execute_result"
    }
   ],
   "source": [
    "d = pd.concat([error_df.iloc[1:500,],error_df.iloc[410781:411281,]], axis=0)\n",
    "d.shape"
   ]
  },
  {
   "cell_type": "code",
   "execution_count": 92,
   "metadata": {},
   "outputs": [
    {
     "data": {
      "text/html": [
       "<div>\n",
       "<style scoped>\n",
       "    .dataframe tbody tr th:only-of-type {\n",
       "        vertical-align: middle;\n",
       "    }\n",
       "\n",
       "    .dataframe tbody tr th {\n",
       "        vertical-align: top;\n",
       "    }\n",
       "\n",
       "    .dataframe thead th {\n",
       "        text-align: right;\n",
       "    }\n",
       "</style>\n",
       "<table border=\"1\" class=\"dataframe\">\n",
       "  <thead>\n",
       "    <tr style=\"text-align: right;\">\n",
       "      <th></th>\n",
       "      <th>Reconstruction_error</th>\n",
       "      <th>True_class</th>\n",
       "    </tr>\n",
       "  </thead>\n",
       "  <tbody>\n",
       "    <tr>\n",
       "      <th>985485</th>\n",
       "      <td>2553.428567</td>\n",
       "      <td>0</td>\n",
       "    </tr>\n",
       "    <tr>\n",
       "      <th>4972</th>\n",
       "      <td>2424.825857</td>\n",
       "      <td>0</td>\n",
       "    </tr>\n",
       "    <tr>\n",
       "      <th>1518811</th>\n",
       "      <td>3275.464252</td>\n",
       "      <td>0</td>\n",
       "    </tr>\n",
       "    <tr>\n",
       "      <th>1320222</th>\n",
       "      <td>3693.428565</td>\n",
       "      <td>0</td>\n",
       "    </tr>\n",
       "    <tr>\n",
       "      <th>171258</th>\n",
       "      <td>2148.969650</td>\n",
       "      <td>0</td>\n",
       "    </tr>\n",
       "    <tr>\n",
       "      <th>687203</th>\n",
       "      <td>2235.929480</td>\n",
       "      <td>0</td>\n",
       "    </tr>\n",
       "    <tr>\n",
       "      <th>918859</th>\n",
       "      <td>4564.115706</td>\n",
       "      <td>0</td>\n",
       "    </tr>\n",
       "    <tr>\n",
       "      <th>1132767</th>\n",
       "      <td>3335.519980</td>\n",
       "      <td>0</td>\n",
       "    </tr>\n",
       "    <tr>\n",
       "      <th>471104</th>\n",
       "      <td>3878.173934</td>\n",
       "      <td>0</td>\n",
       "    </tr>\n",
       "    <tr>\n",
       "      <th>579850</th>\n",
       "      <td>2083.217279</td>\n",
       "      <td>0</td>\n",
       "    </tr>\n",
       "    <tr>\n",
       "      <th>1284978</th>\n",
       "      <td>2924.428560</td>\n",
       "      <td>0</td>\n",
       "    </tr>\n",
       "    <tr>\n",
       "      <th>663484</th>\n",
       "      <td>2463.655461</td>\n",
       "      <td>0</td>\n",
       "    </tr>\n",
       "    <tr>\n",
       "      <th>601748</th>\n",
       "      <td>2228.447068</td>\n",
       "      <td>0</td>\n",
       "    </tr>\n",
       "    <tr>\n",
       "      <th>1151008</th>\n",
       "      <td>2639.908587</td>\n",
       "      <td>0</td>\n",
       "    </tr>\n",
       "    <tr>\n",
       "      <th>383810</th>\n",
       "      <td>4434.080501</td>\n",
       "      <td>0</td>\n",
       "    </tr>\n",
       "    <tr>\n",
       "      <th>718981</th>\n",
       "      <td>3586.400720</td>\n",
       "      <td>0</td>\n",
       "    </tr>\n",
       "    <tr>\n",
       "      <th>987711</th>\n",
       "      <td>3232.178552</td>\n",
       "      <td>0</td>\n",
       "    </tr>\n",
       "    <tr>\n",
       "      <th>545033</th>\n",
       "      <td>3185.771745</td>\n",
       "      <td>0</td>\n",
       "    </tr>\n",
       "    <tr>\n",
       "      <th>1484183</th>\n",
       "      <td>2499.229996</td>\n",
       "      <td>0</td>\n",
       "    </tr>\n",
       "    <tr>\n",
       "      <th>700206</th>\n",
       "      <td>3254.891553</td>\n",
       "      <td>0</td>\n",
       "    </tr>\n",
       "    <tr>\n",
       "      <th>648851</th>\n",
       "      <td>2079.519362</td>\n",
       "      <td>0</td>\n",
       "    </tr>\n",
       "    <tr>\n",
       "      <th>477912</th>\n",
       "      <td>2446.891723</td>\n",
       "      <td>0</td>\n",
       "    </tr>\n",
       "    <tr>\n",
       "      <th>531553</th>\n",
       "      <td>3057.926988</td>\n",
       "      <td>0</td>\n",
       "    </tr>\n",
       "    <tr>\n",
       "      <th>656160</th>\n",
       "      <td>2496.208280</td>\n",
       "      <td>0</td>\n",
       "    </tr>\n",
       "    <tr>\n",
       "      <th>13889</th>\n",
       "      <td>2369.524108</td>\n",
       "      <td>0</td>\n",
       "    </tr>\n",
       "    <tr>\n",
       "      <th>255643</th>\n",
       "      <td>2869.429269</td>\n",
       "      <td>0</td>\n",
       "    </tr>\n",
       "    <tr>\n",
       "      <th>831005</th>\n",
       "      <td>2360.714285</td>\n",
       "      <td>0</td>\n",
       "    </tr>\n",
       "    <tr>\n",
       "      <th>93831</th>\n",
       "      <td>2358.198833</td>\n",
       "      <td>0</td>\n",
       "    </tr>\n",
       "    <tr>\n",
       "      <th>89637</th>\n",
       "      <td>2653.724921</td>\n",
       "      <td>0</td>\n",
       "    </tr>\n",
       "    <tr>\n",
       "      <th>144085</th>\n",
       "      <td>2773.552913</td>\n",
       "      <td>0</td>\n",
       "    </tr>\n",
       "    <tr>\n",
       "      <th>...</th>\n",
       "      <td>...</td>\n",
       "      <td>...</td>\n",
       "    </tr>\n",
       "    <tr>\n",
       "      <th>1548622</th>\n",
       "      <td>3123.755711</td>\n",
       "      <td>1</td>\n",
       "    </tr>\n",
       "    <tr>\n",
       "      <th>1548623</th>\n",
       "      <td>3251.258926</td>\n",
       "      <td>1</td>\n",
       "    </tr>\n",
       "    <tr>\n",
       "      <th>1548902</th>\n",
       "      <td>4682.698549</td>\n",
       "      <td>1</td>\n",
       "    </tr>\n",
       "    <tr>\n",
       "      <th>1548903</th>\n",
       "      <td>4700.269978</td>\n",
       "      <td>1</td>\n",
       "    </tr>\n",
       "    <tr>\n",
       "      <th>1548904</th>\n",
       "      <td>4718.127121</td>\n",
       "      <td>1</td>\n",
       "    </tr>\n",
       "    <tr>\n",
       "      <th>1548905</th>\n",
       "      <td>4712.258550</td>\n",
       "      <td>1</td>\n",
       "    </tr>\n",
       "    <tr>\n",
       "      <th>1548906</th>\n",
       "      <td>4730.687121</td>\n",
       "      <td>1</td>\n",
       "    </tr>\n",
       "    <tr>\n",
       "      <th>1548907</th>\n",
       "      <td>4749.401407</td>\n",
       "      <td>1</td>\n",
       "    </tr>\n",
       "    <tr>\n",
       "      <th>1548908</th>\n",
       "      <td>4768.401407</td>\n",
       "      <td>1</td>\n",
       "    </tr>\n",
       "    <tr>\n",
       "      <th>1548909</th>\n",
       "      <td>3711.920002</td>\n",
       "      <td>1</td>\n",
       "    </tr>\n",
       "    <tr>\n",
       "      <th>1548910</th>\n",
       "      <td>3731.491431</td>\n",
       "      <td>1</td>\n",
       "    </tr>\n",
       "    <tr>\n",
       "      <th>1549816</th>\n",
       "      <td>4250.857136</td>\n",
       "      <td>1</td>\n",
       "    </tr>\n",
       "    <tr>\n",
       "      <th>1549817</th>\n",
       "      <td>4424.891419</td>\n",
       "      <td>1</td>\n",
       "    </tr>\n",
       "    <tr>\n",
       "      <th>1549818</th>\n",
       "      <td>4869.127127</td>\n",
       "      <td>1</td>\n",
       "    </tr>\n",
       "    <tr>\n",
       "      <th>1549819</th>\n",
       "      <td>5179.035697</td>\n",
       "      <td>1</td>\n",
       "    </tr>\n",
       "    <tr>\n",
       "      <th>1549820</th>\n",
       "      <td>4480.241419</td>\n",
       "      <td>1</td>\n",
       "    </tr>\n",
       "    <tr>\n",
       "      <th>1549821</th>\n",
       "      <td>5094.178557</td>\n",
       "      <td>1</td>\n",
       "    </tr>\n",
       "    <tr>\n",
       "      <th>1549822</th>\n",
       "      <td>4701.271773</td>\n",
       "      <td>1</td>\n",
       "    </tr>\n",
       "    <tr>\n",
       "      <th>1549823</th>\n",
       "      <td>4679.460344</td>\n",
       "      <td>1</td>\n",
       "    </tr>\n",
       "    <tr>\n",
       "      <th>1549824</th>\n",
       "      <td>4795.029985</td>\n",
       "      <td>1</td>\n",
       "    </tr>\n",
       "    <tr>\n",
       "      <th>1550664</th>\n",
       "      <td>2999.201408</td>\n",
       "      <td>1</td>\n",
       "    </tr>\n",
       "    <tr>\n",
       "      <th>1550665</th>\n",
       "      <td>3245.108549</td>\n",
       "      <td>1</td>\n",
       "    </tr>\n",
       "    <tr>\n",
       "      <th>1550666</th>\n",
       "      <td>3390.041408</td>\n",
       "      <td>1</td>\n",
       "    </tr>\n",
       "    <tr>\n",
       "      <th>1550667</th>\n",
       "      <td>3399.898551</td>\n",
       "      <td>1</td>\n",
       "    </tr>\n",
       "    <tr>\n",
       "      <th>1550668</th>\n",
       "      <td>3319.058549</td>\n",
       "      <td>1</td>\n",
       "    </tr>\n",
       "    <tr>\n",
       "      <th>1550669</th>\n",
       "      <td>3350.857123</td>\n",
       "      <td>1</td>\n",
       "    </tr>\n",
       "    <tr>\n",
       "      <th>1550670</th>\n",
       "      <td>3611.698552</td>\n",
       "      <td>1</td>\n",
       "    </tr>\n",
       "    <tr>\n",
       "      <th>1550671</th>\n",
       "      <td>3750.794264</td>\n",
       "      <td>1</td>\n",
       "    </tr>\n",
       "    <tr>\n",
       "      <th>1550672</th>\n",
       "      <td>3308.269980</td>\n",
       "      <td>1</td>\n",
       "    </tr>\n",
       "    <tr>\n",
       "      <th>1550673</th>\n",
       "      <td>3455.658547</td>\n",
       "      <td>1</td>\n",
       "    </tr>\n",
       "  </tbody>\n",
       "</table>\n",
       "<p>999 rows × 2 columns</p>\n",
       "</div>"
      ],
      "text/plain": [
       "         Reconstruction_error  True_class\n",
       "985485            2553.428567           0\n",
       "4972              2424.825857           0\n",
       "1518811           3275.464252           0\n",
       "1320222           3693.428565           0\n",
       "171258            2148.969650           0\n",
       "687203            2235.929480           0\n",
       "918859            4564.115706           0\n",
       "1132767           3335.519980           0\n",
       "471104            3878.173934           0\n",
       "579850            2083.217279           0\n",
       "1284978           2924.428560           0\n",
       "663484            2463.655461           0\n",
       "601748            2228.447068           0\n",
       "1151008           2639.908587           0\n",
       "383810            4434.080501           0\n",
       "718981            3586.400720           0\n",
       "987711            3232.178552           0\n",
       "545033            3185.771745           0\n",
       "1484183           2499.229996           0\n",
       "700206            3254.891553           0\n",
       "648851            2079.519362           0\n",
       "477912            2446.891723           0\n",
       "531553            3057.926988           0\n",
       "656160            2496.208280           0\n",
       "13889             2369.524108           0\n",
       "255643            2869.429269           0\n",
       "831005            2360.714285           0\n",
       "93831             2358.198833           0\n",
       "89637             2653.724921           0\n",
       "144085            2773.552913           0\n",
       "...                       ...         ...\n",
       "1548622           3123.755711           1\n",
       "1548623           3251.258926           1\n",
       "1548902           4682.698549           1\n",
       "1548903           4700.269978           1\n",
       "1548904           4718.127121           1\n",
       "1548905           4712.258550           1\n",
       "1548906           4730.687121           1\n",
       "1548907           4749.401407           1\n",
       "1548908           4768.401407           1\n",
       "1548909           3711.920002           1\n",
       "1548910           3731.491431           1\n",
       "1549816           4250.857136           1\n",
       "1549817           4424.891419           1\n",
       "1549818           4869.127127           1\n",
       "1549819           5179.035697           1\n",
       "1549820           4480.241419           1\n",
       "1549821           5094.178557           1\n",
       "1549822           4701.271773           1\n",
       "1549823           4679.460344           1\n",
       "1549824           4795.029985           1\n",
       "1550664           2999.201408           1\n",
       "1550665           3245.108549           1\n",
       "1550666           3390.041408           1\n",
       "1550667           3399.898551           1\n",
       "1550668           3319.058549           1\n",
       "1550669           3350.857123           1\n",
       "1550670           3611.698552           1\n",
       "1550671           3750.794264           1\n",
       "1550672           3308.269980           1\n",
       "1550673           3455.658547           1\n",
       "\n",
       "[999 rows x 2 columns]"
      ]
     },
     "execution_count": 92,
     "metadata": {},
     "output_type": "execute_result"
    }
   ],
   "source": [
    "d"
   ]
  },
  {
   "cell_type": "code",
   "execution_count": 93,
   "metadata": {},
   "outputs": [],
   "source": [
    "precision_rt, recall_rt, threshold_rt = precision_recall_curve(d.True_class, d.Reconstruction_error)"
   ]
  },
  {
   "cell_type": "code",
   "execution_count": 96,
   "metadata": {},
   "outputs": [
    {
     "data": {
      "image/png": "[encoded data removed]",
      "text/plain": [
       "<Figure size 432x288 with 1 Axes>"
      ]
     },
     "metadata": {
      "needs_background": "light"
     },
     "output_type": "display_data"
    }
   ],
   "source": [
    "plt.plot(threshold_rt, precision_rt[1:], label=\"Precision\",linewidth=5)\n",
    "plt.plot(threshold_rt, recall_rt[1:], label=\"Recall\",linewidth=5)\n",
    "#plt.title('Precision and recall for different threshold values', size = 20)\n",
    "plt.xlabel(' RE threshold', size = 15)\n",
    "plt.ylabel('Precision/Recall', size = 15)\n",
    "plt.yticks(size = 15);\n",
    "plt.legend()\n",
    "\n",
    "plt.savefig('precisionrecall.png')"
   ]
  },
  {
   "cell_type": "code",
   "execution_count": 77,
   "metadata": {},
   "outputs": [
    {
     "data": {
      "image/png": "[encoded data removed]",
      "text/plain": [
       "<Figure size 720x720 with 1 Axes>"
      ]
     },
     "metadata": {
      "needs_background": "light"
     },
     "output_type": "display_data"
    }
   ],
   "source": [
    "threshold_fixed = 4000\n",
    "groups = d.groupby('True_class')\n",
    "fig, ax = plt.subplots(figsize=(10,10))\n",
    "\n",
    "for name, group in groups:\n",
    "    ax.plot(group.index, group.Reconstruction_error, marker='o', ms=3.5, linestyle='',\n",
    "            label= \"Sepsis\" if name == 1 else \"Normal\")\n",
    "ax.hlines(threshold_fixed, ax.get_xlim()[0], ax.get_xlim()[1], colors=\"r\", zorder=100, label='Threshold')\n",
    "ax.legend()\n",
    "plt.title(\"Reconstruction error for different classes\")\n",
    "plt.ylabel(\"Reconstruction error\")\n",
    "plt.xlabel(\"Data point index\")\n",
    "plt.show();"
   ]
  },
  {
   "cell_type": "code",
   "execution_count": 84,
   "metadata": {},
   "outputs": [
    {
     "data": {
      "image/png": "[encoded data removed]",
      "text/plain": [
       "<Figure size 1080x720 with 1 Axes>"
      ]
     },
     "metadata": {
      "needs_background": "light"
     },
     "output_type": "display_data"
    }
   ],
   "source": [
    "fig = plt.subplots(figsize=(15, 10))\n",
    "sns.distplot(d[d[\"True_class\"]==0].Reconstruction_error,  rug=False, label=\"Healthy\")\n",
    "sns.distplot(d[d[\"True_class\"]==1].Reconstruction_error, rug=False,  label=\"Sepsis\",  color='red');\n",
    "plt.legend(loc=1, prop={'size': 30})\n",
    "plt.xticks(size =15)\n",
    "plt.rc('legend', fontsize=15)   \n",
    "#plt.title(\"Reconstruction Error on Test data\", size =20)\n",
    "plt.xlabel('Reconstruction Error on test data', size = 20)\n",
    "plt.savefig('imbalanced_dataset.png')\n",
    "plt.yticks(size = 15);\n",
    "plt.savefig('autoencoder.png')"
   ]
  },
  {
   "cell_type": "code",
   "execution_count": null,
   "metadata": {},
   "outputs": [],
   "source": []
  },
  {
   "cell_type": "code",
   "execution_count": 109,
   "metadata": {},
   "outputs": [],
   "source": [
    "# create another feature RE\n",
    "data = X_tr\n",
    "y = data.SepsisLabel\n",
    "data.drop(['SepsisLabel','ID'], axis = 1, inplace = True)"
   ]
  },
  {
   "cell_type": "code",
   "execution_count": 113,
   "metadata": {},
   "outputs": [],
   "source": [
    "data = data.values"
   ]
  },
  {
   "cell_type": "code",
   "execution_count": 114,
   "metadata": {},
   "outputs": [],
   "source": [
    "allpredictions = autoencoder.predict(data)\n"
   ]
  },
  {
   "cell_type": "code",
   "execution_count": 115,
   "metadata": {},
   "outputs": [
    {
     "data": {
      "text/html": [
       "<div>\n",
       "<style scoped>\n",
       "    .dataframe tbody tr th:only-of-type {\n",
       "        vertical-align: middle;\n",
       "    }\n",
       "\n",
       "    .dataframe tbody tr th {\n",
       "        vertical-align: top;\n",
       "    }\n",
       "\n",
       "    .dataframe thead th {\n",
       "        text-align: right;\n",
       "    }\n",
       "</style>\n",
       "<table border=\"1\" class=\"dataframe\">\n",
       "  <thead>\n",
       "    <tr style=\"text-align: right;\">\n",
       "      <th></th>\n",
       "      <th>Reconstruction_error</th>\n",
       "      <th>True_class</th>\n",
       "    </tr>\n",
       "  </thead>\n",
       "  <tbody>\n",
       "    <tr>\n",
       "      <th>count</th>\n",
       "      <td>1.552210e+06</td>\n",
       "      <td>1.552210e+06</td>\n",
       "    </tr>\n",
       "    <tr>\n",
       "      <th>mean</th>\n",
       "      <td>3.117094e+03</td>\n",
       "      <td>1.798468e-02</td>\n",
       "    </tr>\n",
       "    <tr>\n",
       "      <th>std</th>\n",
       "      <td>1.059795e+03</td>\n",
       "      <td>1.328956e-01</td>\n",
       "    </tr>\n",
       "    <tr>\n",
       "      <th>min</th>\n",
       "      <td>8.978266e+02</td>\n",
       "      <td>0.000000e+00</td>\n",
       "    </tr>\n",
       "    <tr>\n",
       "      <th>25%</th>\n",
       "      <td>2.553953e+03</td>\n",
       "      <td>0.000000e+00</td>\n",
       "    </tr>\n",
       "    <tr>\n",
       "      <th>50%</th>\n",
       "      <td>2.947676e+03</td>\n",
       "      <td>0.000000e+00</td>\n",
       "    </tr>\n",
       "    <tr>\n",
       "      <th>75%</th>\n",
       "      <td>3.428009e+03</td>\n",
       "      <td>0.000000e+00</td>\n",
       "    </tr>\n",
       "    <tr>\n",
       "      <th>max</th>\n",
       "      <td>2.054187e+04</td>\n",
       "      <td>1.000000e+00</td>\n",
       "    </tr>\n",
       "  </tbody>\n",
       "</table>\n",
       "</div>"
      ],
      "text/plain": [
       "       Reconstruction_error    True_class\n",
       "count          1.552210e+06  1.552210e+06\n",
       "mean           3.117094e+03  1.798468e-02\n",
       "std            1.059795e+03  1.328956e-01\n",
       "min            8.978266e+02  0.000000e+00\n",
       "25%            2.553953e+03  0.000000e+00\n",
       "50%            2.947676e+03  0.000000e+00\n",
       "75%            3.428009e+03  0.000000e+00\n",
       "max            2.054187e+04  1.000000e+00"
      ]
     },
     "execution_count": 115,
     "metadata": {},
     "output_type": "execute_result"
    }
   ],
   "source": [
    "mse = np.mean(np.power(data- allpredictions, 2), axis=1)\n",
    "f = pd.DataFrame({'Reconstruction_error': mse,\n",
    "                        'True_class':y})\n",
    "f.describe()"
   ]
  },
  {
   "cell_type": "code",
   "execution_count": 117,
   "metadata": {},
   "outputs": [
    {
     "data": {
      "text/plain": [
       "1552210"
      ]
     },
     "execution_count": 117,
     "metadata": {},
     "output_type": "execute_result"
    }
   ],
   "source": [
    "len(f.Reconstruction_error)"
   ]
  },
  {
   "cell_type": "code",
   "execution_count": 118,
   "metadata": {},
   "outputs": [],
   "source": [
    "np.savetxt(\"REfromAENN.csv\", f.Reconstruction_error, fmt='%s')"
   ]
  },
  {
   "cell_type": "code",
   "execution_count": null,
   "metadata": {},
   "outputs": [],
   "source": []
  }
 ],
 "metadata": {
  "kernelspec": {
   "display_name": "Python 3",
   "language": "python",
   "name": "python3"
  },
  "language_info": {
   "codemirror_mode": {
    "name": "ipython",
    "version": 3
   },
   "file_extension": ".py",
   "mimetype": "text/x-python",
   "name": "python",
   "nbconvert_exporter": "python",
   "pygments_lexer": "ipython3",
   "version": "3.7.3"
  }
 },
 "nbformat": 4,
 "nbformat_minor": 2
}
